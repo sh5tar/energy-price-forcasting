{
 "cells": [
  {
   "cell_type": "markdown",
   "id": "317d0d0e-e430-465a-9c79-b19acdff8b49",
   "metadata": {
    "tags": []
   },
   "source": [
    "# <b> Long-Term forecast of energy commodities price using Random Forest and Artificial neural network </b>"
   ]
  },
  {
   "cell_type": "markdown",
   "id": "00d234ba-dd7a-4971-b185-a88fb383560f",
   "metadata": {
    "tags": []
   },
   "source": [
    "## Loading libraryies and raeding the dataset"
   ]
  },
  {
   "cell_type": "code",
   "execution_count": 479,
   "id": "3a84888d-11db-4740-b1f1-6270c3d64b71",
   "metadata": {
    "tags": []
   },
   "outputs": [
    {
     "data": {
      "text/html": [
       "<div>\n",
       "<style scoped>\n",
       "    .dataframe tbody tr th:only-of-type {\n",
       "        vertical-align: middle;\n",
       "    }\n",
       "\n",
       "    .dataframe tbody tr th {\n",
       "        vertical-align: top;\n",
       "    }\n",
       "\n",
       "    .dataframe thead th {\n",
       "        text-align: right;\n",
       "    }\n",
       "</style>\n",
       "<table border=\"1\" class=\"dataframe\">\n",
       "  <thead>\n",
       "    <tr style=\"text-align: right;\">\n",
       "      <th></th>\n",
       "      <th>Date</th>\n",
       "      <th>Crude Oil (petroleum),  Dated Brent</th>\n",
       "      <th>Log-return Crude Oil (petroleum),  Dated Brent</th>\n",
       "      <th>Crude Oil (petroleum), West Texas Intermediate</th>\n",
       "      <th>Log-return Crude Oil (petroleum), West Texas Intermediate</th>\n",
       "      <th>Coal, Australian thermal coal</th>\n",
       "      <th>Log-return Coal, Australian thermal coal</th>\n",
       "      <th>Crude Oil (petroleum), Dubai Fateh</th>\n",
       "      <th>Log-return Crude Oil (petroleum), Dubai Fateh</th>\n",
       "      <th>Russian Natural Gas border price in Germany</th>\n",
       "      <th>Log-return Russian Natural Gas border price in Germany</th>\n",
       "      <th>Natural Gas spot price at the Henry Hub terminal in Louisiana</th>\n",
       "      <th>Log-return Natural Gas spot price at the Henry Hub terminal in Louisiana</th>\n",
       "    </tr>\n",
       "  </thead>\n",
       "  <tbody>\n",
       "    <tr>\n",
       "      <th>0</th>\n",
       "      <td>1980M1</td>\n",
       "      <td>40.00</td>\n",
       "      <td>0.0000</td>\n",
       "      <td>37.00</td>\n",
       "      <td>0.0000</td>\n",
       "      <td>39.6966</td>\n",
       "      <td>0.000000</td>\n",
       "      <td>38.00</td>\n",
       "      <td>0.000000</td>\n",
       "      <td>NaN</td>\n",
       "      <td>NaN</td>\n",
       "      <td>NaN</td>\n",
       "      <td>NaN</td>\n",
       "    </tr>\n",
       "    <tr>\n",
       "      <th>1</th>\n",
       "      <td>1980M2</td>\n",
       "      <td>38.50</td>\n",
       "      <td>-0.0382</td>\n",
       "      <td>37.04</td>\n",
       "      <td>0.0011</td>\n",
       "      <td>40.2581</td>\n",
       "      <td>0.014046</td>\n",
       "      <td>36.00</td>\n",
       "      <td>-0.054067</td>\n",
       "      <td>NaN</td>\n",
       "      <td>NaN</td>\n",
       "      <td>NaN</td>\n",
       "      <td>NaN</td>\n",
       "    </tr>\n",
       "    <tr>\n",
       "      <th>2</th>\n",
       "      <td>1980M3</td>\n",
       "      <td>38.25</td>\n",
       "      <td>-0.0065</td>\n",
       "      <td>39.52</td>\n",
       "      <td>0.0648</td>\n",
       "      <td>40.8276</td>\n",
       "      <td>0.014046</td>\n",
       "      <td>35.75</td>\n",
       "      <td>-0.006969</td>\n",
       "      <td>NaN</td>\n",
       "      <td>NaN</td>\n",
       "      <td>NaN</td>\n",
       "      <td>NaN</td>\n",
       "    </tr>\n",
       "    <tr>\n",
       "      <th>3</th>\n",
       "      <td>1980M4</td>\n",
       "      <td>38.15</td>\n",
       "      <td>-0.0026</td>\n",
       "      <td>39.50</td>\n",
       "      <td>-0.0005</td>\n",
       "      <td>41.4051</td>\n",
       "      <td>0.014046</td>\n",
       "      <td>35.00</td>\n",
       "      <td>-0.021202</td>\n",
       "      <td>NaN</td>\n",
       "      <td>NaN</td>\n",
       "      <td>NaN</td>\n",
       "      <td>NaN</td>\n",
       "    </tr>\n",
       "    <tr>\n",
       "      <th>4</th>\n",
       "      <td>1980M5</td>\n",
       "      <td>38.50</td>\n",
       "      <td>0.0091</td>\n",
       "      <td>39.50</td>\n",
       "      <td>0.0000</td>\n",
       "      <td>41.9907</td>\n",
       "      <td>0.014046</td>\n",
       "      <td>35.60</td>\n",
       "      <td>0.016998</td>\n",
       "      <td>NaN</td>\n",
       "      <td>NaN</td>\n",
       "      <td>NaN</td>\n",
       "      <td>NaN</td>\n",
       "    </tr>\n",
       "  </tbody>\n",
       "</table>\n",
       "</div>"
      ],
      "text/plain": [
       "     Date  Crude Oil (petroleum),  Dated Brent  \\\n",
       "0  1980M1                                40.00   \n",
       "1  1980M2                                38.50   \n",
       "2  1980M3                                38.25   \n",
       "3  1980M4                                38.15   \n",
       "4  1980M5                                38.50   \n",
       "\n",
       "   Log-return Crude Oil (petroleum),  Dated Brent  \\\n",
       "0                                          0.0000   \n",
       "1                                         -0.0382   \n",
       "2                                         -0.0065   \n",
       "3                                         -0.0026   \n",
       "4                                          0.0091   \n",
       "\n",
       "   Crude Oil (petroleum), West Texas Intermediate  \\\n",
       "0                                           37.00   \n",
       "1                                           37.04   \n",
       "2                                           39.52   \n",
       "3                                           39.50   \n",
       "4                                           39.50   \n",
       "\n",
       "   Log-return Crude Oil (petroleum), West Texas Intermediate  \\\n",
       "0                                             0.0000           \n",
       "1                                             0.0011           \n",
       "2                                             0.0648           \n",
       "3                                            -0.0005           \n",
       "4                                             0.0000           \n",
       "\n",
       "   Coal, Australian thermal coal  Log-return Coal, Australian thermal coal  \\\n",
       "0                        39.6966                                  0.000000   \n",
       "1                        40.2581                                  0.014046   \n",
       "2                        40.8276                                  0.014046   \n",
       "3                        41.4051                                  0.014046   \n",
       "4                        41.9907                                  0.014046   \n",
       "\n",
       "   Crude Oil (petroleum), Dubai Fateh  \\\n",
       "0                               38.00   \n",
       "1                               36.00   \n",
       "2                               35.75   \n",
       "3                               35.00   \n",
       "4                               35.60   \n",
       "\n",
       "   Log-return Crude Oil (petroleum), Dubai Fateh  \\\n",
       "0                                       0.000000   \n",
       "1                                      -0.054067   \n",
       "2                                      -0.006969   \n",
       "3                                      -0.021202   \n",
       "4                                       0.016998   \n",
       "\n",
       "   Russian Natural Gas border price in Germany  \\\n",
       "0                                          NaN   \n",
       "1                                          NaN   \n",
       "2                                          NaN   \n",
       "3                                          NaN   \n",
       "4                                          NaN   \n",
       "\n",
       "   Log-return Russian Natural Gas border price in Germany  \\\n",
       "0                                                NaN        \n",
       "1                                                NaN        \n",
       "2                                                NaN        \n",
       "3                                                NaN        \n",
       "4                                                NaN        \n",
       "\n",
       "   Natural Gas spot price at the Henry Hub terminal in Louisiana  \\\n",
       "0                                                NaN               \n",
       "1                                                NaN               \n",
       "2                                                NaN               \n",
       "3                                                NaN               \n",
       "4                                                NaN               \n",
       "\n",
       "   Log-return Natural Gas spot price at the Henry Hub terminal in Louisiana  \n",
       "0                                                NaN                         \n",
       "1                                                NaN                         \n",
       "2                                                NaN                         \n",
       "3                                                NaN                         \n",
       "4                                                NaN                         "
      ]
     },
     "execution_count": 479,
     "metadata": {},
     "output_type": "execute_result"
    }
   ],
   "source": [
    "import numpy as np\n",
    "import pandas as pd \n",
    "import matplotlib.pyplot as plt \n",
    "from datetime import datetime\n",
    "\n",
    "%matplotlib inline\n",
    "data=pd.read_excel(\"Long-term forecast of energy commodities price using machine.xlsx\", index_col=None)\n",
    "data.head()"
   ]
  },
  {
   "cell_type": "markdown",
   "id": "43714128-8b73-4eb1-a28b-97a6390a028b",
   "metadata": {
    "tags": []
   },
   "source": [
    "# Converting the Date to datetime opject "
   ]
  },
  {
   "cell_type": "code",
   "execution_count": 480,
   "id": "bdff22d1-6c47-42d6-9889-0907ada838df",
   "metadata": {},
   "outputs": [],
   "source": [
    "data['Date']=data['Date'].str.replace('M','-')\n",
    "data['Date']=pd.to_datetime(data['Date'], format='%Y-%m')"
   ]
  },
  {
   "cell_type": "code",
   "execution_count": 481,
   "id": "cea7fdf9-3abf-4dd6-aea5-c0400420dbc0",
   "metadata": {},
   "outputs": [
    {
     "data": {
      "text/html": [
       "<div>\n",
       "<style scoped>\n",
       "    .dataframe tbody tr th:only-of-type {\n",
       "        vertical-align: middle;\n",
       "    }\n",
       "\n",
       "    .dataframe tbody tr th {\n",
       "        vertical-align: top;\n",
       "    }\n",
       "\n",
       "    .dataframe thead th {\n",
       "        text-align: right;\n",
       "    }\n",
       "</style>\n",
       "<table border=\"1\" class=\"dataframe\">\n",
       "  <thead>\n",
       "    <tr style=\"text-align: right;\">\n",
       "      <th></th>\n",
       "      <th>Date</th>\n",
       "      <th>Crude Oil (petroleum),  Dated Brent</th>\n",
       "      <th>Log-return Crude Oil (petroleum),  Dated Brent</th>\n",
       "      <th>Crude Oil (petroleum), West Texas Intermediate</th>\n",
       "      <th>Log-return Crude Oil (petroleum), West Texas Intermediate</th>\n",
       "      <th>Coal, Australian thermal coal</th>\n",
       "      <th>Log-return Coal, Australian thermal coal</th>\n",
       "      <th>Crude Oil (petroleum), Dubai Fateh</th>\n",
       "      <th>Log-return Crude Oil (petroleum), Dubai Fateh</th>\n",
       "      <th>Russian Natural Gas border price in Germany</th>\n",
       "      <th>Log-return Russian Natural Gas border price in Germany</th>\n",
       "      <th>Natural Gas spot price at the Henry Hub terminal in Louisiana</th>\n",
       "      <th>Log-return Natural Gas spot price at the Henry Hub terminal in Louisiana</th>\n",
       "    </tr>\n",
       "  </thead>\n",
       "  <tbody>\n",
       "    <tr>\n",
       "      <th>0</th>\n",
       "      <td>1980-01-01</td>\n",
       "      <td>40.00</td>\n",
       "      <td>0.0000</td>\n",
       "      <td>37.00</td>\n",
       "      <td>0.0000</td>\n",
       "      <td>39.6966</td>\n",
       "      <td>0.000000</td>\n",
       "      <td>38.00</td>\n",
       "      <td>0.000000</td>\n",
       "      <td>NaN</td>\n",
       "      <td>NaN</td>\n",
       "      <td>NaN</td>\n",
       "      <td>NaN</td>\n",
       "    </tr>\n",
       "    <tr>\n",
       "      <th>1</th>\n",
       "      <td>1980-02-01</td>\n",
       "      <td>38.50</td>\n",
       "      <td>-0.0382</td>\n",
       "      <td>37.04</td>\n",
       "      <td>0.0011</td>\n",
       "      <td>40.2581</td>\n",
       "      <td>0.014046</td>\n",
       "      <td>36.00</td>\n",
       "      <td>-0.054067</td>\n",
       "      <td>NaN</td>\n",
       "      <td>NaN</td>\n",
       "      <td>NaN</td>\n",
       "      <td>NaN</td>\n",
       "    </tr>\n",
       "    <tr>\n",
       "      <th>2</th>\n",
       "      <td>1980-03-01</td>\n",
       "      <td>38.25</td>\n",
       "      <td>-0.0065</td>\n",
       "      <td>39.52</td>\n",
       "      <td>0.0648</td>\n",
       "      <td>40.8276</td>\n",
       "      <td>0.014046</td>\n",
       "      <td>35.75</td>\n",
       "      <td>-0.006969</td>\n",
       "      <td>NaN</td>\n",
       "      <td>NaN</td>\n",
       "      <td>NaN</td>\n",
       "      <td>NaN</td>\n",
       "    </tr>\n",
       "    <tr>\n",
       "      <th>3</th>\n",
       "      <td>1980-04-01</td>\n",
       "      <td>38.15</td>\n",
       "      <td>-0.0026</td>\n",
       "      <td>39.50</td>\n",
       "      <td>-0.0005</td>\n",
       "      <td>41.4051</td>\n",
       "      <td>0.014046</td>\n",
       "      <td>35.00</td>\n",
       "      <td>-0.021202</td>\n",
       "      <td>NaN</td>\n",
       "      <td>NaN</td>\n",
       "      <td>NaN</td>\n",
       "      <td>NaN</td>\n",
       "    </tr>\n",
       "    <tr>\n",
       "      <th>4</th>\n",
       "      <td>1980-05-01</td>\n",
       "      <td>38.50</td>\n",
       "      <td>0.0091</td>\n",
       "      <td>39.50</td>\n",
       "      <td>0.0000</td>\n",
       "      <td>41.9907</td>\n",
       "      <td>0.014046</td>\n",
       "      <td>35.60</td>\n",
       "      <td>0.016998</td>\n",
       "      <td>NaN</td>\n",
       "      <td>NaN</td>\n",
       "      <td>NaN</td>\n",
       "      <td>NaN</td>\n",
       "    </tr>\n",
       "  </tbody>\n",
       "</table>\n",
       "</div>"
      ],
      "text/plain": [
       "        Date  Crude Oil (petroleum),  Dated Brent  \\\n",
       "0 1980-01-01                                40.00   \n",
       "1 1980-02-01                                38.50   \n",
       "2 1980-03-01                                38.25   \n",
       "3 1980-04-01                                38.15   \n",
       "4 1980-05-01                                38.50   \n",
       "\n",
       "   Log-return Crude Oil (petroleum),  Dated Brent  \\\n",
       "0                                          0.0000   \n",
       "1                                         -0.0382   \n",
       "2                                         -0.0065   \n",
       "3                                         -0.0026   \n",
       "4                                          0.0091   \n",
       "\n",
       "   Crude Oil (petroleum), West Texas Intermediate  \\\n",
       "0                                           37.00   \n",
       "1                                           37.04   \n",
       "2                                           39.52   \n",
       "3                                           39.50   \n",
       "4                                           39.50   \n",
       "\n",
       "   Log-return Crude Oil (petroleum), West Texas Intermediate  \\\n",
       "0                                             0.0000           \n",
       "1                                             0.0011           \n",
       "2                                             0.0648           \n",
       "3                                            -0.0005           \n",
       "4                                             0.0000           \n",
       "\n",
       "   Coal, Australian thermal coal  Log-return Coal, Australian thermal coal  \\\n",
       "0                        39.6966                                  0.000000   \n",
       "1                        40.2581                                  0.014046   \n",
       "2                        40.8276                                  0.014046   \n",
       "3                        41.4051                                  0.014046   \n",
       "4                        41.9907                                  0.014046   \n",
       "\n",
       "   Crude Oil (petroleum), Dubai Fateh  \\\n",
       "0                               38.00   \n",
       "1                               36.00   \n",
       "2                               35.75   \n",
       "3                               35.00   \n",
       "4                               35.60   \n",
       "\n",
       "   Log-return Crude Oil (petroleum), Dubai Fateh  \\\n",
       "0                                       0.000000   \n",
       "1                                      -0.054067   \n",
       "2                                      -0.006969   \n",
       "3                                      -0.021202   \n",
       "4                                       0.016998   \n",
       "\n",
       "   Russian Natural Gas border price in Germany  \\\n",
       "0                                          NaN   \n",
       "1                                          NaN   \n",
       "2                                          NaN   \n",
       "3                                          NaN   \n",
       "4                                          NaN   \n",
       "\n",
       "   Log-return Russian Natural Gas border price in Germany  \\\n",
       "0                                                NaN        \n",
       "1                                                NaN        \n",
       "2                                                NaN        \n",
       "3                                                NaN        \n",
       "4                                                NaN        \n",
       "\n",
       "   Natural Gas spot price at the Henry Hub terminal in Louisiana  \\\n",
       "0                                                NaN               \n",
       "1                                                NaN               \n",
       "2                                                NaN               \n",
       "3                                                NaN               \n",
       "4                                                NaN               \n",
       "\n",
       "   Log-return Natural Gas spot price at the Henry Hub terminal in Louisiana  \n",
       "0                                                NaN                         \n",
       "1                                                NaN                         \n",
       "2                                                NaN                         \n",
       "3                                                NaN                         \n",
       "4                                                NaN                         "
      ]
     },
     "execution_count": 481,
     "metadata": {},
     "output_type": "execute_result"
    }
   ],
   "source": [
    "data.head()"
   ]
  },
  {
   "cell_type": "markdown",
   "id": "95a67137-25fc-4520-9eb0-9eb9283a283a",
   "metadata": {
    "tags": []
   },
   "source": [
    "# Removing the Log-return from the dataset"
   ]
  },
  {
   "cell_type": "code",
   "execution_count": 482,
   "id": "d0808287-f7d4-463e-ac1c-89cc963c0c10",
   "metadata": {},
   "outputs": [
    {
     "data": {
      "text/html": [
       "<div>\n",
       "<style scoped>\n",
       "    .dataframe tbody tr th:only-of-type {\n",
       "        vertical-align: middle;\n",
       "    }\n",
       "\n",
       "    .dataframe tbody tr th {\n",
       "        vertical-align: top;\n",
       "    }\n",
       "\n",
       "    .dataframe thead th {\n",
       "        text-align: right;\n",
       "    }\n",
       "</style>\n",
       "<table border=\"1\" class=\"dataframe\">\n",
       "  <thead>\n",
       "    <tr style=\"text-align: right;\">\n",
       "      <th></th>\n",
       "      <th>Date</th>\n",
       "      <th>Crude Oil (petroleum),  Dated Brent</th>\n",
       "      <th>Crude Oil (petroleum), West Texas Intermediate</th>\n",
       "      <th>Coal, Australian thermal coal</th>\n",
       "      <th>Crude Oil (petroleum), Dubai Fateh</th>\n",
       "      <th>Russian Natural Gas border price in Germany</th>\n",
       "      <th>Natural Gas spot price at the Henry Hub terminal in Louisiana</th>\n",
       "    </tr>\n",
       "  </thead>\n",
       "  <tbody>\n",
       "    <tr>\n",
       "      <th>0</th>\n",
       "      <td>1980-01-01</td>\n",
       "      <td>40.00</td>\n",
       "      <td>37.00</td>\n",
       "      <td>39.6966</td>\n",
       "      <td>38.00</td>\n",
       "      <td>NaN</td>\n",
       "      <td>NaN</td>\n",
       "    </tr>\n",
       "    <tr>\n",
       "      <th>1</th>\n",
       "      <td>1980-02-01</td>\n",
       "      <td>38.50</td>\n",
       "      <td>37.04</td>\n",
       "      <td>40.2581</td>\n",
       "      <td>36.00</td>\n",
       "      <td>NaN</td>\n",
       "      <td>NaN</td>\n",
       "    </tr>\n",
       "    <tr>\n",
       "      <th>2</th>\n",
       "      <td>1980-03-01</td>\n",
       "      <td>38.25</td>\n",
       "      <td>39.52</td>\n",
       "      <td>40.8276</td>\n",
       "      <td>35.75</td>\n",
       "      <td>NaN</td>\n",
       "      <td>NaN</td>\n",
       "    </tr>\n",
       "    <tr>\n",
       "      <th>3</th>\n",
       "      <td>1980-04-01</td>\n",
       "      <td>38.15</td>\n",
       "      <td>39.50</td>\n",
       "      <td>41.4051</td>\n",
       "      <td>35.00</td>\n",
       "      <td>NaN</td>\n",
       "      <td>NaN</td>\n",
       "    </tr>\n",
       "    <tr>\n",
       "      <th>4</th>\n",
       "      <td>1980-05-01</td>\n",
       "      <td>38.50</td>\n",
       "      <td>39.50</td>\n",
       "      <td>41.9907</td>\n",
       "      <td>35.60</td>\n",
       "      <td>NaN</td>\n",
       "      <td>NaN</td>\n",
       "    </tr>\n",
       "  </tbody>\n",
       "</table>\n",
       "</div>"
      ],
      "text/plain": [
       "        Date  Crude Oil (petroleum),  Dated Brent  \\\n",
       "0 1980-01-01                                40.00   \n",
       "1 1980-02-01                                38.50   \n",
       "2 1980-03-01                                38.25   \n",
       "3 1980-04-01                                38.15   \n",
       "4 1980-05-01                                38.50   \n",
       "\n",
       "   Crude Oil (petroleum), West Texas Intermediate  \\\n",
       "0                                           37.00   \n",
       "1                                           37.04   \n",
       "2                                           39.52   \n",
       "3                                           39.50   \n",
       "4                                           39.50   \n",
       "\n",
       "   Coal, Australian thermal coal  Crude Oil (petroleum), Dubai Fateh  \\\n",
       "0                        39.6966                               38.00   \n",
       "1                        40.2581                               36.00   \n",
       "2                        40.8276                               35.75   \n",
       "3                        41.4051                               35.00   \n",
       "4                        41.9907                               35.60   \n",
       "\n",
       "   Russian Natural Gas border price in Germany  \\\n",
       "0                                          NaN   \n",
       "1                                          NaN   \n",
       "2                                          NaN   \n",
       "3                                          NaN   \n",
       "4                                          NaN   \n",
       "\n",
       "   Natural Gas spot price at the Henry Hub terminal in Louisiana  \n",
       "0                                                NaN              \n",
       "1                                                NaN              \n",
       "2                                                NaN              \n",
       "3                                                NaN              \n",
       "4                                                NaN              "
      ]
     },
     "execution_count": 482,
     "metadata": {},
     "output_type": "execute_result"
    }
   ],
   "source": [
    "df=pd.DataFrame()\n",
    "#something= data.loc[:, \"Log-return\" not in data.columns]\n",
    "\n",
    "\n",
    "\n",
    "for (colname, colval)in data.iteritems():\n",
    "    \n",
    "    if \"Log-return\" not in colname:\n",
    "        df[colname]=data[colname]\n",
    "df.head()"
   ]
  },
  {
   "cell_type": "markdown",
   "id": "35014b77-91f5-4331-b98a-b171f73cc781",
   "metadata": {
    "tags": []
   },
   "source": [
    "# Dataset analysis "
   ]
  },
  {
   "cell_type": "code",
   "execution_count": 483,
   "id": "5bdd8bee-2382-48c5-95a6-4836d13cea72",
   "metadata": {},
   "outputs": [],
   "source": [
    "df=df.drop([df.iloc[:,1].name] ,axis=1)\n"
   ]
  },
  {
   "cell_type": "code",
   "execution_count": 484,
   "id": "7f01f705-3fd0-4323-ac25-676020f9c2cc",
   "metadata": {},
   "outputs": [
    {
     "data": {
      "text/html": [
       "<div>\n",
       "<style scoped>\n",
       "    .dataframe tbody tr th:only-of-type {\n",
       "        vertical-align: middle;\n",
       "    }\n",
       "\n",
       "    .dataframe tbody tr th {\n",
       "        vertical-align: top;\n",
       "    }\n",
       "\n",
       "    .dataframe thead th {\n",
       "        text-align: right;\n",
       "    }\n",
       "</style>\n",
       "<table border=\"1\" class=\"dataframe\">\n",
       "  <thead>\n",
       "    <tr style=\"text-align: right;\">\n",
       "      <th></th>\n",
       "      <th>Crude Oil (petroleum), West Texas Intermediate</th>\n",
       "      <th>Coal, Australian thermal coal</th>\n",
       "      <th>Crude Oil (petroleum), Dubai Fateh</th>\n",
       "      <th>Russian Natural Gas border price in Germany</th>\n",
       "      <th>Natural Gas spot price at the Henry Hub terminal in Louisiana</th>\n",
       "    </tr>\n",
       "  </thead>\n",
       "  <tbody>\n",
       "    <tr>\n",
       "      <th>count</th>\n",
       "      <td>450.000000</td>\n",
       "      <td>450.000000</td>\n",
       "      <td>450.000000</td>\n",
       "      <td>390.000000</td>\n",
       "      <td>318.000000</td>\n",
       "    </tr>\n",
       "    <tr>\n",
       "      <th>mean</th>\n",
       "      <td>41.309404</td>\n",
       "      <td>52.475415</td>\n",
       "      <td>39.737580</td>\n",
       "      <td>5.097373</td>\n",
       "      <td>3.875465</td>\n",
       "    </tr>\n",
       "    <tr>\n",
       "      <th>std</th>\n",
       "      <td>27.720572</td>\n",
       "      <td>29.603735</td>\n",
       "      <td>30.246714</td>\n",
       "      <td>3.510788</td>\n",
       "      <td>2.260123</td>\n",
       "    </tr>\n",
       "    <tr>\n",
       "      <th>min</th>\n",
       "      <td>11.310000</td>\n",
       "      <td>24.000000</td>\n",
       "      <td>8.500000</td>\n",
       "      <td>1.444444</td>\n",
       "      <td>1.148500</td>\n",
       "    </tr>\n",
       "    <tr>\n",
       "      <th>25%</th>\n",
       "      <td>20.045000</td>\n",
       "      <td>32.061825</td>\n",
       "      <td>17.000000</td>\n",
       "      <td>2.490000</td>\n",
       "      <td>2.211825</td>\n",
       "    </tr>\n",
       "    <tr>\n",
       "      <th>50%</th>\n",
       "      <td>30.334300</td>\n",
       "      <td>39.500000</td>\n",
       "      <td>27.520000</td>\n",
       "      <td>3.460000</td>\n",
       "      <td>3.150950</td>\n",
       "    </tr>\n",
       "    <tr>\n",
       "      <th>75%</th>\n",
       "      <td>54.195200</td>\n",
       "      <td>62.769875</td>\n",
       "      <td>53.060000</td>\n",
       "      <td>7.790000</td>\n",
       "      <td>5.012600</td>\n",
       "    </tr>\n",
       "    <tr>\n",
       "      <th>max</th>\n",
       "      <td>133.930000</td>\n",
       "      <td>195.186300</td>\n",
       "      <td>131.220000</td>\n",
       "      <td>16.020000</td>\n",
       "      <td>13.633800</td>\n",
       "    </tr>\n",
       "  </tbody>\n",
       "</table>\n",
       "</div>"
      ],
      "text/plain": [
       "       Crude Oil (petroleum), West Texas Intermediate  \\\n",
       "count                                      450.000000   \n",
       "mean                                        41.309404   \n",
       "std                                         27.720572   \n",
       "min                                         11.310000   \n",
       "25%                                         20.045000   \n",
       "50%                                         30.334300   \n",
       "75%                                         54.195200   \n",
       "max                                        133.930000   \n",
       "\n",
       "       Coal, Australian thermal coal  Crude Oil (petroleum), Dubai Fateh  \\\n",
       "count                     450.000000                          450.000000   \n",
       "mean                       52.475415                           39.737580   \n",
       "std                        29.603735                           30.246714   \n",
       "min                        24.000000                            8.500000   \n",
       "25%                        32.061825                           17.000000   \n",
       "50%                        39.500000                           27.520000   \n",
       "75%                        62.769875                           53.060000   \n",
       "max                       195.186300                          131.220000   \n",
       "\n",
       "       Russian Natural Gas border price in Germany  \\\n",
       "count                                   390.000000   \n",
       "mean                                      5.097373   \n",
       "std                                       3.510788   \n",
       "min                                       1.444444   \n",
       "25%                                       2.490000   \n",
       "50%                                       3.460000   \n",
       "75%                                       7.790000   \n",
       "max                                      16.020000   \n",
       "\n",
       "       Natural Gas spot price at the Henry Hub terminal in Louisiana  \n",
       "count                                         318.000000              \n",
       "mean                                            3.875465              \n",
       "std                                             2.260123              \n",
       "min                                             1.148500              \n",
       "25%                                             2.211825              \n",
       "50%                                             3.150950              \n",
       "75%                                             5.012600              \n",
       "max                                            13.633800              "
      ]
     },
     "execution_count": 484,
     "metadata": {},
     "output_type": "execute_result"
    }
   ],
   "source": [
    "df.describe()"
   ]
  },
  {
   "cell_type": "markdown",
   "id": "f2b0c3df-3707-4f50-8956-8ff6bb78db13",
   "metadata": {
    "tags": []
   },
   "source": [
    "##### As can be seen in the Describetion of the Data that Russian Natural Gas Has missing entries and also in Louisiana Natrual Gas and also it can be seen that all entiers are float64 except the Date"
   ]
  },
  {
   "cell_type": "markdown",
   "id": "cbf27b87-d350-4371-aad9-cdca132a8c14",
   "metadata": {
    "tags": []
   },
   "source": [
    "# show corrleation between the price and the Date"
   ]
  },
  {
   "cell_type": "code",
   "execution_count": 485,
   "id": "6ea589f3-1083-4238-aa42-9fa2e0f9f1d6",
   "metadata": {},
   "outputs": [
    {
     "data": {
      "image/png": "[encoded data removed]",
      "text/plain": [
       "<Figure size 432x432 with 1 Axes>"
      ]
     },
     "metadata": {
      "needs_background": "light"
     },
     "output_type": "display_data"
    },
    {
     "data": {
      "image/png": "[encoded data removed]",
      "text/plain": [
       "<Figure size 432x432 with 1 Axes>"
      ]
     },
     "metadata": {
      "needs_background": "light"
     },
     "output_type": "display_data"
    },
    {
     "data": {
      "image/png": "[encoded data removed]",
      "text/plain": [
       "<Figure size 432x432 with 1 Axes>"
      ]
     },
     "metadata": {
      "needs_background": "light"
     },
     "output_type": "display_data"
    },
    {
     "data": {
      "image/png": "[encoded data removed]",
      "text/plain": [
       "<Figure size 432x432 with 1 Axes>"
      ]
     },
     "metadata": {
      "needs_background": "light"
     },
     "output_type": "display_data"
    },
    {
     "data": {
      "image/png": "[encoded data removed]",
      "text/plain": [
       "<Figure size 432x432 with 1 Axes>"
      ]
     },
     "metadata": {
      "needs_background": "light"
     },
     "output_type": "display_data"
    }
   ],
   "source": [
    "\n",
    "for (colname, colval)in df.iteritems():\n",
    "    if colname!=\"Date\":\n",
    "        %matplotlib inline\n",
    "        fig, ax = plt.subplots(figsize=(6, 6))\n",
    "        plt.title(colname)\n",
    "        plt.plot(data.Date, colval.values)\n",
    "        plt.show()\n"
   ]
  },
  {
   "cell_type": "markdown",
   "id": "a668632c-e526-452a-81c5-57c84ec32906",
   "metadata": {},
   "source": [
    "##### As can be seen that the relation between the Price and Date is not leanier for that we will use non-linear models"
   ]
  },
  {
   "cell_type": "code",
   "execution_count": 486,
   "id": "3193ab1c-9224-4086-ae19-08c1bee452c9",
   "metadata": {},
   "outputs": [
    {
     "data": {
      "text/plain": [
       "Index(['Date', 'Crude Oil (petroleum), West Texas Intermediate',\n",
       "       'Coal, Australian thermal coal', 'Crude Oil (petroleum), Dubai Fateh',\n",
       "       'Russian Natural Gas border price in Germany',\n",
       "       'Natural Gas spot price at the Henry Hub terminal in Louisiana'],\n",
       "      dtype='object')"
      ]
     },
     "execution_count": 486,
     "metadata": {},
     "output_type": "execute_result"
    }
   ],
   "source": [
    "df.columns"
   ]
  },
  {
   "cell_type": "markdown",
   "id": "19dcc77f-d48f-484c-b59d-50304ded5182",
   "metadata": {},
   "source": [
    "# Preprossing the DateTime "
   ]
  },
  {
   "cell_type": "code",
   "execution_count": 487,
   "id": "34d89227-09e4-4f72-add1-cc41475aed76",
   "metadata": {},
   "outputs": [
    {
     "data": {
      "text/html": [
       "<div>\n",
       "<style scoped>\n",
       "    .dataframe tbody tr th:only-of-type {\n",
       "        vertical-align: middle;\n",
       "    }\n",
       "\n",
       "    .dataframe tbody tr th {\n",
       "        vertical-align: top;\n",
       "    }\n",
       "\n",
       "    .dataframe thead th {\n",
       "        text-align: right;\n",
       "    }\n",
       "</style>\n",
       "<table border=\"1\" class=\"dataframe\">\n",
       "  <thead>\n",
       "    <tr style=\"text-align: right;\">\n",
       "      <th></th>\n",
       "      <th>Date</th>\n",
       "      <th>Crude Oil (petroleum), West Texas Intermediate</th>\n",
       "      <th>Coal, Australian thermal coal</th>\n",
       "      <th>Crude Oil (petroleum), Dubai Fateh</th>\n",
       "      <th>Russian Natural Gas border price in Germany</th>\n",
       "      <th>Natural Gas spot price at the Henry Hub terminal in Louisiana</th>\n",
       "      <th>Year</th>\n",
       "      <th>month</th>\n",
       "      <th>quarter</th>\n",
       "    </tr>\n",
       "  </thead>\n",
       "  <tbody>\n",
       "    <tr>\n",
       "      <th>0</th>\n",
       "      <td>1980-01-01</td>\n",
       "      <td>37.0000</td>\n",
       "      <td>39.6966</td>\n",
       "      <td>38.000000</td>\n",
       "      <td>NaN</td>\n",
       "      <td>NaN</td>\n",
       "      <td>1980</td>\n",
       "      <td>1</td>\n",
       "      <td>1</td>\n",
       "    </tr>\n",
       "    <tr>\n",
       "      <th>1</th>\n",
       "      <td>1980-02-01</td>\n",
       "      <td>37.0400</td>\n",
       "      <td>40.2581</td>\n",
       "      <td>36.000000</td>\n",
       "      <td>NaN</td>\n",
       "      <td>NaN</td>\n",
       "      <td>1980</td>\n",
       "      <td>2</td>\n",
       "      <td>1</td>\n",
       "    </tr>\n",
       "    <tr>\n",
       "      <th>2</th>\n",
       "      <td>1980-03-01</td>\n",
       "      <td>39.5200</td>\n",
       "      <td>40.8276</td>\n",
       "      <td>35.750000</td>\n",
       "      <td>NaN</td>\n",
       "      <td>NaN</td>\n",
       "      <td>1980</td>\n",
       "      <td>3</td>\n",
       "      <td>1</td>\n",
       "    </tr>\n",
       "    <tr>\n",
       "      <th>3</th>\n",
       "      <td>1980-04-01</td>\n",
       "      <td>39.5000</td>\n",
       "      <td>41.4051</td>\n",
       "      <td>35.000000</td>\n",
       "      <td>NaN</td>\n",
       "      <td>NaN</td>\n",
       "      <td>1980</td>\n",
       "      <td>4</td>\n",
       "      <td>2</td>\n",
       "    </tr>\n",
       "    <tr>\n",
       "      <th>4</th>\n",
       "      <td>1980-05-01</td>\n",
       "      <td>39.5000</td>\n",
       "      <td>41.9907</td>\n",
       "      <td>35.600000</td>\n",
       "      <td>NaN</td>\n",
       "      <td>NaN</td>\n",
       "      <td>1980</td>\n",
       "      <td>5</td>\n",
       "      <td>2</td>\n",
       "    </tr>\n",
       "    <tr>\n",
       "      <th>...</th>\n",
       "      <td>...</td>\n",
       "      <td>...</td>\n",
       "      <td>...</td>\n",
       "      <td>...</td>\n",
       "      <td>...</td>\n",
       "      <td>...</td>\n",
       "      <td>...</td>\n",
       "      <td>...</td>\n",
       "      <td>...</td>\n",
       "    </tr>\n",
       "    <tr>\n",
       "      <th>445</th>\n",
       "      <td>2017-02-01</td>\n",
       "      <td>53.4015</td>\n",
       "      <td>85.9693</td>\n",
       "      <td>54.171000</td>\n",
       "      <td>6.100298</td>\n",
       "      <td>2.8200</td>\n",
       "      <td>2017</td>\n",
       "      <td>2</td>\n",
       "      <td>1</td>\n",
       "    </tr>\n",
       "    <tr>\n",
       "      <th>446</th>\n",
       "      <td>2017-03-01</td>\n",
       "      <td>49.5848</td>\n",
       "      <td>86.3339</td>\n",
       "      <td>51.164348</td>\n",
       "      <td>4.945020</td>\n",
       "      <td>2.8745</td>\n",
       "      <td>2017</td>\n",
       "      <td>3</td>\n",
       "      <td>1</td>\n",
       "    </tr>\n",
       "    <tr>\n",
       "      <th>447</th>\n",
       "      <td>2017-04-01</td>\n",
       "      <td>51.1680</td>\n",
       "      <td>90.1107</td>\n",
       "      <td>52.447500</td>\n",
       "      <td>5.035127</td>\n",
       "      <td>3.0820</td>\n",
       "      <td>2017</td>\n",
       "      <td>4</td>\n",
       "      <td>2</td>\n",
       "    </tr>\n",
       "    <tr>\n",
       "      <th>448</th>\n",
       "      <td>2017-05-01</td>\n",
       "      <td>48.5596</td>\n",
       "      <td>80.1184</td>\n",
       "      <td>50.304348</td>\n",
       "      <td>5.067728</td>\n",
       "      <td>3.1243</td>\n",
       "      <td>2017</td>\n",
       "      <td>5</td>\n",
       "      <td>2</td>\n",
       "    </tr>\n",
       "    <tr>\n",
       "      <th>449</th>\n",
       "      <td>2017-06-01</td>\n",
       "      <td>45.1677</td>\n",
       "      <td>85.6734</td>\n",
       "      <td>46.336818</td>\n",
       "      <td>4.984226</td>\n",
       "      <td>2.9388</td>\n",
       "      <td>2017</td>\n",
       "      <td>6</td>\n",
       "      <td>2</td>\n",
       "    </tr>\n",
       "  </tbody>\n",
       "</table>\n",
       "<p>450 rows × 9 columns</p>\n",
       "</div>"
      ],
      "text/plain": [
       "          Date  Crude Oil (petroleum), West Texas Intermediate  \\\n",
       "0   1980-01-01                                         37.0000   \n",
       "1   1980-02-01                                         37.0400   \n",
       "2   1980-03-01                                         39.5200   \n",
       "3   1980-04-01                                         39.5000   \n",
       "4   1980-05-01                                         39.5000   \n",
       "..         ...                                             ...   \n",
       "445 2017-02-01                                         53.4015   \n",
       "446 2017-03-01                                         49.5848   \n",
       "447 2017-04-01                                         51.1680   \n",
       "448 2017-05-01                                         48.5596   \n",
       "449 2017-06-01                                         45.1677   \n",
       "\n",
       "     Coal, Australian thermal coal  Crude Oil (petroleum), Dubai Fateh  \\\n",
       "0                          39.6966                           38.000000   \n",
       "1                          40.2581                           36.000000   \n",
       "2                          40.8276                           35.750000   \n",
       "3                          41.4051                           35.000000   \n",
       "4                          41.9907                           35.600000   \n",
       "..                             ...                                 ...   \n",
       "445                        85.9693                           54.171000   \n",
       "446                        86.3339                           51.164348   \n",
       "447                        90.1107                           52.447500   \n",
       "448                        80.1184                           50.304348   \n",
       "449                        85.6734                           46.336818   \n",
       "\n",
       "     Russian Natural Gas border price in Germany  \\\n",
       "0                                            NaN   \n",
       "1                                            NaN   \n",
       "2                                            NaN   \n",
       "3                                            NaN   \n",
       "4                                            NaN   \n",
       "..                                           ...   \n",
       "445                                     6.100298   \n",
       "446                                     4.945020   \n",
       "447                                     5.035127   \n",
       "448                                     5.067728   \n",
       "449                                     4.984226   \n",
       "\n",
       "     Natural Gas spot price at the Henry Hub terminal in Louisiana  Year  \\\n",
       "0                                                  NaN              1980   \n",
       "1                                                  NaN              1980   \n",
       "2                                                  NaN              1980   \n",
       "3                                                  NaN              1980   \n",
       "4                                                  NaN              1980   \n",
       "..                                                 ...               ...   \n",
       "445                                             2.8200              2017   \n",
       "446                                             2.8745              2017   \n",
       "447                                             3.0820              2017   \n",
       "448                                             3.1243              2017   \n",
       "449                                             2.9388              2017   \n",
       "\n",
       "     month  quarter  \n",
       "0        1        1  \n",
       "1        2        1  \n",
       "2        3        1  \n",
       "3        4        2  \n",
       "4        5        2  \n",
       "..     ...      ...  \n",
       "445      2        1  \n",
       "446      3        1  \n",
       "447      4        2  \n",
       "448      5        2  \n",
       "449      6        2  \n",
       "\n",
       "[450 rows x 9 columns]"
      ]
     },
     "execution_count": 487,
     "metadata": {},
     "output_type": "execute_result"
    }
   ],
   "source": [
    "# df[\"Price\"]=df[\"Crude Oil (petroleum),  Dated Brent\"]\n",
    "df['Year'] = pd.to_datetime(df['Date']).dt.year\n",
    "df['month'] = pd.to_datetime(df['Date']).dt.month\n",
    "df['quarter']= pd.to_datetime(df['Date']).dt.quarter\n",
    "\n",
    "df\n"
   ]
  },
  {
   "cell_type": "markdown",
   "id": "7b8dc591-0f1f-49f7-bdaf-fd087f4c368b",
   "metadata": {},
   "source": [
    "# Seperating the Data and Droping rows that has Empty Price "
   ]
  },
  {
   "cell_type": "code",
   "execution_count": 488,
   "id": "165b57a3-68ce-4398-9fbf-2f99d89b6f97",
   "metadata": {},
   "outputs": [
    {
     "data": {
      "text/html": [
       "<div>\n",
       "<style scoped>\n",
       "    .dataframe tbody tr th:only-of-type {\n",
       "        vertical-align: middle;\n",
       "    }\n",
       "\n",
       "    .dataframe tbody tr th {\n",
       "        vertical-align: top;\n",
       "    }\n",
       "\n",
       "    .dataframe thead th {\n",
       "        text-align: right;\n",
       "    }\n",
       "</style>\n",
       "<table border=\"1\" class=\"dataframe\">\n",
       "  <thead>\n",
       "    <tr style=\"text-align: right;\">\n",
       "      <th></th>\n",
       "      <th>Date</th>\n",
       "      <th>Crude Oil (petroleum), West Texas Intermediate</th>\n",
       "      <th>Year</th>\n",
       "      <th>month</th>\n",
       "      <th>quarter</th>\n",
       "    </tr>\n",
       "  </thead>\n",
       "  <tbody>\n",
       "    <tr>\n",
       "      <th>0</th>\n",
       "      <td>1980-01-01</td>\n",
       "      <td>37.0000</td>\n",
       "      <td>1980</td>\n",
       "      <td>1</td>\n",
       "      <td>1</td>\n",
       "    </tr>\n",
       "    <tr>\n",
       "      <th>1</th>\n",
       "      <td>1980-02-01</td>\n",
       "      <td>37.0400</td>\n",
       "      <td>1980</td>\n",
       "      <td>2</td>\n",
       "      <td>1</td>\n",
       "    </tr>\n",
       "    <tr>\n",
       "      <th>2</th>\n",
       "      <td>1980-03-01</td>\n",
       "      <td>39.5200</td>\n",
       "      <td>1980</td>\n",
       "      <td>3</td>\n",
       "      <td>1</td>\n",
       "    </tr>\n",
       "    <tr>\n",
       "      <th>3</th>\n",
       "      <td>1980-04-01</td>\n",
       "      <td>39.5000</td>\n",
       "      <td>1980</td>\n",
       "      <td>4</td>\n",
       "      <td>2</td>\n",
       "    </tr>\n",
       "    <tr>\n",
       "      <th>4</th>\n",
       "      <td>1980-05-01</td>\n",
       "      <td>39.5000</td>\n",
       "      <td>1980</td>\n",
       "      <td>5</td>\n",
       "      <td>2</td>\n",
       "    </tr>\n",
       "    <tr>\n",
       "      <th>...</th>\n",
       "      <td>...</td>\n",
       "      <td>...</td>\n",
       "      <td>...</td>\n",
       "      <td>...</td>\n",
       "      <td>...</td>\n",
       "    </tr>\n",
       "    <tr>\n",
       "      <th>445</th>\n",
       "      <td>2017-02-01</td>\n",
       "      <td>53.4015</td>\n",
       "      <td>2017</td>\n",
       "      <td>2</td>\n",
       "      <td>1</td>\n",
       "    </tr>\n",
       "    <tr>\n",
       "      <th>446</th>\n",
       "      <td>2017-03-01</td>\n",
       "      <td>49.5848</td>\n",
       "      <td>2017</td>\n",
       "      <td>3</td>\n",
       "      <td>1</td>\n",
       "    </tr>\n",
       "    <tr>\n",
       "      <th>447</th>\n",
       "      <td>2017-04-01</td>\n",
       "      <td>51.1680</td>\n",
       "      <td>2017</td>\n",
       "      <td>4</td>\n",
       "      <td>2</td>\n",
       "    </tr>\n",
       "    <tr>\n",
       "      <th>448</th>\n",
       "      <td>2017-05-01</td>\n",
       "      <td>48.5596</td>\n",
       "      <td>2017</td>\n",
       "      <td>5</td>\n",
       "      <td>2</td>\n",
       "    </tr>\n",
       "    <tr>\n",
       "      <th>449</th>\n",
       "      <td>2017-06-01</td>\n",
       "      <td>45.1677</td>\n",
       "      <td>2017</td>\n",
       "      <td>6</td>\n",
       "      <td>2</td>\n",
       "    </tr>\n",
       "  </tbody>\n",
       "</table>\n",
       "<p>450 rows × 5 columns</p>\n",
       "</div>"
      ],
      "text/plain": [
       "          Date  Crude Oil (petroleum), West Texas Intermediate  Year  month  \\\n",
       "0   1980-01-01                                         37.0000  1980      1   \n",
       "1   1980-02-01                                         37.0400  1980      2   \n",
       "2   1980-03-01                                         39.5200  1980      3   \n",
       "3   1980-04-01                                         39.5000  1980      4   \n",
       "4   1980-05-01                                         39.5000  1980      5   \n",
       "..         ...                                             ...   ...    ...   \n",
       "445 2017-02-01                                         53.4015  2017      2   \n",
       "446 2017-03-01                                         49.5848  2017      3   \n",
       "447 2017-04-01                                         51.1680  2017      4   \n",
       "448 2017-05-01                                         48.5596  2017      5   \n",
       "449 2017-06-01                                         45.1677  2017      6   \n",
       "\n",
       "     quarter  \n",
       "0          1  \n",
       "1          1  \n",
       "2          1  \n",
       "3          2  \n",
       "4          2  \n",
       "..       ...  \n",
       "445        1  \n",
       "446        1  \n",
       "447        2  \n",
       "448        2  \n",
       "449        2  \n",
       "\n",
       "[450 rows x 5 columns]"
      ]
     },
     "execution_count": 488,
     "metadata": {},
     "output_type": "execute_result"
    }
   ],
   "source": [
    "\n",
    "West_Taxas =df.drop(df.columns[2:-3], axis=1).dropna()\n",
    "Australian =df.drop(df.columns[3:-3], axis=1).drop([\"Crude Oil (petroleum), West Texas Intermediate\"],axis=1).dropna()\n",
    "Dubai =df.drop(df.columns[4:-3], axis=1).drop([\"Crude Oil (petroleum), West Texas Intermediate\"],axis=1).drop([\"Coal, Australian thermal coal\"],axis=1).dropna()\n",
    "Russian=df.drop(df.columns[5:-3], axis=1).drop([\"Crude Oil (petroleum), West Texas Intermediate\"],axis=1).drop([\"Coal, Australian thermal coal\"],axis=1).drop([\"Crude Oil (petroleum), Dubai Fateh\"],axis=1).dropna()\n",
    "Louisiana=df.drop(df.columns[6:-4], axis=1).dropna()\n",
    "West_Taxas"
   ]
  },
  {
   "cell_type": "markdown",
   "id": "fa84e560-c6bf-4b20-bb3a-40bc9f22f8d0",
   "metadata": {},
   "source": [
    " # Adding the previous pricess as a feature "
   ]
  },
  {
   "cell_type": "code",
   "execution_count": 489,
   "id": "2fe4cd0d-051f-4587-93d5-46e30db1cc25",
   "metadata": {},
   "outputs": [],
   "source": [
    "def Lag_adding(df, Lag_Number=12):\n",
    "    dataframe = pd.DataFrame()\n",
    "    for i in range(Lag_Number, 0, -1):\n",
    "        dataframe['t-' + str(i)] = df[df.columns[1]].shift(i)\n",
    "    df4 = pd.concat([df, dataframe], axis=1)\n",
    "    df4.dropna(inplace=True)\n",
    "    return df4\n"
   ]
  },
  {
   "cell_type": "code",
   "execution_count": 490,
   "id": "d245ccb6-3161-4e0b-9676-d9d5ed04c912",
   "metadata": {},
   "outputs": [],
   "source": [
    "#adding to all dataset \n",
    "#Brent=Lag_adding(Brent,72)\n",
    "West_Taxas=Lag_adding(West_Taxas,18)\n",
    "Australian=Lag_adding(Australian,39)\n",
    "Dubai=Lag_adding(Dubai,39)\n",
    "Russian=Lag_adding(Russian,16)\n",
    "Louisiana=Lag_adding(Louisiana,13)"
   ]
  },
  {
   "cell_type": "markdown",
   "id": "41c12ef1-0d96-4a25-8371-f996b92cc20d",
   "metadata": {},
   "source": [
    "# Listing of approiate evaluation mesures "
   ]
  },
  {
   "cell_type": "markdown",
   "id": "fa3dd174-325a-4c2f-8c27-11081e838fc9",
   "metadata": {},
   "source": [
    "####  For the evluation messures I will be using the root mean square error (RMSE)  and the mean absoute precentage error  (MAPE)  because they are the most widely used statistical loss functions. also the models needs to preform better than the mean price for each dataset."
   ]
  },
  {
   "cell_type": "code",
   "execution_count": 491,
   "id": "7c55a45c-f30d-41b8-a40e-52204aaae069",
   "metadata": {},
   "outputs": [],
   "source": [
    "def RMSE(  predict,Acatual):\n",
    "    return sqrt(sum((predict-Acatual)**2)/len(Acatual))"
   ]
  },
  {
   "cell_type": "code",
   "execution_count": 492,
   "id": "c5c96eab-3aa0-4718-b9d9-1123dba503e9",
   "metadata": {},
   "outputs": [],
   "source": [
    "def MAPE(predict, Acatual):\n",
    "    return sum(abs(predict-Acatual))/len(Acatual)"
   ]
  },
  {
   "cell_type": "markdown",
   "id": "365b09f5-8032-4a49-b49e-b6263a9d858a",
   "metadata": {},
   "source": [
    "# List of classifiers used\n",
    "### 1- Artificial neural network\n",
    "### 2- Random forest \n",
    "### the resason for chossing these two classfiers is that they are non-linear algorithms since the relation between time and price is non-linear "
   ]
  },
  {
   "cell_type": "markdown",
   "id": "bfe9d452-c1f7-452d-ae84-b3f5509391a0",
   "metadata": {
    "tags": []
   },
   "source": [
    "# dividing the Dataset the first 80% for training and 10% for validation last 10% for testing \n",
    "#### It has been done Sequentionaly because using cross validation would not be sufficent for this type of problem  "
   ]
  },
  {
   "cell_type": "code",
   "execution_count": 493,
   "id": "c1adb082-40ac-4574-846d-3c9cee168517",
   "metadata": {},
   "outputs": [],
   "source": [
    "def divid_set(dataset,persentT=0.7,persentV=0.1):\n",
    "    Train ,Val, Test = dataset[:int(len(dataset)*persentT)], dataset[int(len(dataset)*persentT):int(len(dataset)* (persentT+persentV) )],dataset[int(len(dataset)* (persentT+persentV) ):]\n",
    "    Trainy=Train.iloc[:,1].reset_index(drop=True)\n",
    "    TrainX=Train.drop([Trainy.name,\"Date\"], axis=1).reset_index(drop=True)\n",
    "    Valy=Val.iloc[:,1].reset_index(drop=True)\n",
    "    ValX=Val.drop([Trainy.name,\"Date\"], axis=1).reset_index(drop=True)\n",
    "    Testy=Test.iloc[:,1].reset_index(drop=True)\n",
    "    TestX=Test.drop([Trainy.name,\"Date\"], axis=1).reset_index(drop=True)\n",
    "    return TrainX, Trainy,ValX, Valy, TestX, Testy"
   ]
  },
  {
   "cell_type": "markdown",
   "id": "919de523-66e1-4f7c-b5cb-7d09c2c3f3c6",
   "metadata": {},
   "source": [
    "#### Spliting all data "
   ]
  },
  {
   "cell_type": "code",
   "execution_count": 494,
   "id": "0a67546a-bbaa-4ad7-8197-56ef93deccce",
   "metadata": {},
   "outputs": [],
   "source": [
    "\n",
    "West_Taxas_TrainX, West_Taxas_Trainy,West_Taxas_ValX, West_Taxas_Valy, West_Taxas_TestX, West_Taxas_Testy= divid_set(West_Taxas)\n",
    "Australian_TrainX, Australian_Trainy, Australian_ValX, Australian_Valy, Australian_TestX, Australian_Testy=divid_set(Australian)\n",
    "Dubai_TrainX, Dubai_Trainy, Dubai_ValX,  Dubai_Valy, Dubai_TestX,Dubai_Testy=divid_set(Dubai)\n",
    "Russian_TrainX, Russian_Trainy,Russian_ValX, Russian_Valy,Russian_TestX, Russian_Testy=divid_set(Russian) \n",
    "Louisiana_TrainX, Louisiana_Trainy, Louisiana_ValX, Louisiana_Valy,Louisiana_TestX, Louisiana_Testy=divid_set(Louisiana)\n"
   ]
  },
  {
   "cell_type": "markdown",
   "id": "36a64faf-7fc6-49cb-a6b9-80a8d57ef07a",
   "metadata": {},
   "source": [
    "# Random Forest implementation  "
   ]
  },
  {
   "cell_type": "code",
   "execution_count": 495,
   "id": "8f5ac7fb-cf53-4670-82eb-a154e155b216",
   "metadata": {},
   "outputs": [
    {
     "data": {
      "text/plain": [
       "0      35.00\n",
       "1      35.00\n",
       "2      35.00\n",
       "3      35.00\n",
       "4      35.00\n",
       "       ...  \n",
       "297    69.54\n",
       "298    70.93\n",
       "299    70.93\n",
       "300    74.40\n",
       "301    73.04\n",
       "Name: Crude Oil (petroleum), West Texas Intermediate, Length: 302, dtype: float64"
      ]
     },
     "execution_count": 495,
     "metadata": {},
     "output_type": "execute_result"
    }
   ],
   "source": [
    "West_Taxas_Trainy"
   ]
  },
  {
   "cell_type": "code",
   "execution_count": 496,
   "id": "e7476491",
   "metadata": {},
   "outputs": [],
   "source": [
    "def Plot_Graph(True_Value, Pred_Value,X_Value ,  True_Name, Pred_Name):\n",
    "    X=pd.DataFrame()\n",
    "    X['date']=(X_Value.Year.map(str)+\"-\"+X_Value.month.map(str)+\"-1\")\n",
    "    X.date=pd.to_datetime(X.date)\n",
    "    plt.plot( X.date, Pred_Value, color=\"b\" , label=Pred_Name)\n",
    "    plt.plot(X.date, True_Value ,color=\"r\", label=True_Name)\n",
    "    plt.legend()\n",
    "    plt.show()"
   ]
  },
  {
   "cell_type": "code",
   "execution_count": 497,
   "id": "092ad502-755e-4886-9700-a93fbbaaebfd",
   "metadata": {},
   "outputs": [],
   "source": [
    "from sklearn.ensemble import RandomForestRegressor\n",
    "\n",
    "def Random_Forest(TrainX, Trainy , n_estimators):\n",
    "    ##we use GridSearchCV for tuning the paramters and getting the best result\n",
    "    limit=len(TrainX.columns)\n",
    "    max_list=[7,36,9]\n",
    "    max_list=list(filter(lambda x: x <= limit, max_list))\n",
    "    param_grid = {\n",
    "        'n_estimators': [ 500 ],\n",
    "        'max_features': max_list\n",
    "  \n",
    "    }\n",
    "    regr = RandomForestRegressor(random_state=3)\n",
    "    GSCV = GridSearchCV(estimator=regr, param_grid=param_grid)\n",
    "\n",
    "    GSCV.fit(TrainX, Trainy.values.ravel())\n",
    "    print(GSCV.best_params_ )\n",
    "    return GSCV"
   ]
  },
  {
   "cell_type": "code",
   "execution_count": 541,
   "id": "d319184a-c57c-423b-858f-459613448c11",
   "metadata": {},
   "outputs": [
    {
     "name": "stdout",
     "output_type": "stream",
     "text": [
      "Done\n"
     ]
    }
   ],
   "source": [
    "from sklearn.ensemble import RandomForestRegressor\n",
    "\n",
    "West_Taxas_RF=RandomForestRegressor(random_state=3,n_estimators=500,max_features=7)\n",
    "West_Taxas_RF.fit(West_Taxas_TrainX, West_Taxas_Trainy.values.ravel())\n",
    "#Australina_RF=RandomForestRegressor(random_state=3,n_estimators=500,max_features=36)\n",
    "#Australina_RF.fit(Australian_TrainX, Australian_Trainy.values.ravel())\n",
    "Dubai_RF=RandomForestRegressor(random_state=3,n_estimators=500,max_features=37)\n",
    "Dubai_RF.fit(Dubai_TrainX, Dubai_Trainy.values.ravel())\n",
    "Russian_RF=RandomForestRegressor(random_state=3,n_estimators=500,max_features=9)\n",
    "Russian_RF.fit(Russian_TrainX, Russian_Trainy.values.ravel())\n",
    "Louisiana_RF=RandomForestRegressor(random_state=3,n_estimators=500,max_features=7)\n",
    "Louisiana_RF.fit(Louisiana_TrainX, Louisiana_Trainy.values.ravel())\n",
    "print(\"Done\")"
   ]
  },
  {
   "cell_type": "code",
   "execution_count": 537,
   "id": "299bdbd7",
   "metadata": {},
   "outputs": [
    {
     "data": {
      "text/plain": [
       "RandomForestRegressor(ccp_alpha=0.4, max_features=36, n_estimators=1000,\n",
       "                      random_state=3)"
      ]
     },
     "execution_count": 537,
     "metadata": {},
     "output_type": "execute_result"
    }
   ],
   "source": [
    "Australina_RF=RandomForestRegressor(random_state=3,n_estimators=1000,max_features=36,ccp_alpha=0.4)\n",
    "Australina_RF.fit(Australian_TrainX, Australian_Trainy.values.ravel())"
   ]
  },
  {
   "cell_type": "code",
   "execution_count": 542,
   "id": "a1e58a21-96fa-4f83-931e-db00ac13894c",
   "metadata": {},
   "outputs": [
    {
     "name": "stdout",
     "output_type": "stream",
     "text": [
      "Random Forest West Taxas RMSE = 23.43218223703325  , MAPE =  17.834411162790623\n",
      "Random Forest Australina RMSE = 52.99018698994287  , MAPE =  41.05631575516652\n",
      "Random Forest Russian RMSE = 3.3124166561098125  , MAPE =  2.4257931578947414\n",
      "Random Forest Louisiana RMSE = 8.982449671423455  , MAPE =  6.5064782266669035\n",
      "Random Forest Dubai RMSE = 24.352296465195582  , MAPE =  17.811098652195174\n"
     ]
    }
   ],
   "source": [
    "West_Pred=West_Taxas_RF.predict(West_Taxas_ValX)\n",
    "Aust_Pred=Australina_RF.predict(Australian_ValX)\n",
    "Dubai_Pred=Dubai_RF.predict(Dubai_ValX)\n",
    "Russian_Pred=Russian_RF.predict(Russian_ValX)\n",
    "Louis_Pred=Louisiana_RF.predict(Louisiana_ValX)\n",
    "\n",
    "print(\"Random Forest West Taxas RMSE =\",RMSE(West_Pred, West_Taxas_Valy.values.ravel()) ,\" , MAPE = \", MAPE(West_Pred,West_Taxas_Valy.values.ravel())  )\n",
    "print(\"Random Forest Australina RMSE =\",RMSE(Aust_Pred, Australian_Valy.values.ravel()) ,\" , MAPE = \", MAPE(Aust_Pred, Australian_Valy.values.ravel())  )\n",
    "print(\"Random Forest Russian RMSE =\",RMSE(Russian_Pred, Russian_Valy.values.ravel()) ,\" , MAPE = \", MAPE(Russian_Pred, Russian_Valy.values.ravel())  )\n",
    "print(\"Random Forest Louisiana RMSE =\",RMSE(Louis_Pred, Louisiana_Valy.values.ravel()) ,\" , MAPE = \", MAPE(Louis_Pred, Louisiana_Valy.values.ravel())  )\n",
    "print(\"Random Forest Dubai RMSE =\",RMSE(Dubai_Pred, Dubai_Valy.values.ravel()) ,\" , MAPE = \", MAPE(Dubai_Pred, Dubai_Valy.values.ravel())  )\n"
   ]
  },
  {
   "cell_type": "code",
   "execution_count": 543,
   "id": "11aa84d5-9a19-45a5-9fc8-d355935253ad",
   "metadata": {},
   "outputs": [
    {
     "name": "stdout",
     "output_type": "stream",
     "text": [
      "Random Forest Brent RMSE = 1.1666191311931655  , MAPE =  0.6607121859154758\n"
     ]
    }
   ],
   "source": [
    "Louis_TrainTT=Louisiana_RF.predict(Louisiana_TrainX)\n",
    "print(\"Random Forest Brent RMSE =\",RMSE( Louis_TrainTT,Louisiana_Trainy.values.ravel()) ,\" , MAPE = \", MAPE(Louis_TrainTT,Louisiana_Trainy.values.ravel())  )\n"
   ]
  },
  {
   "cell_type": "code",
   "execution_count": 544,
   "id": "0177cd2e",
   "metadata": {},
   "outputs": [
    {
     "name": "stdout",
     "output_type": "stream",
     "text": [
      "Random Forest Brent RMSE = 4.384310605918755  , MAPE =  2.355894220327886\n"
     ]
    },
    {
     "data": {
      "image/png": "[encoded data removed]",
      "text/plain": [
       "<Figure size 432x288 with 1 Axes>"
      ]
     },
     "metadata": {
      "needs_background": "light"
     },
     "output_type": "display_data"
    }
   ],
   "source": [
    "LS_Y=Louisiana.iloc[:,1].reset_index(drop=True)\n",
    "LS_X=Louisiana.drop([LS_Y.name,\"Date\" ], axis=1).reset_index(drop=True)\n",
    "LS_Pred = Louisiana_RF.predict(LS_X)\n",
    "print(\"Random Forest Brent RMSE =\",RMSE( LS_Pred,LS_Y.values.ravel()) ,\" , MAPE = \", MAPE(LS_Pred,LS_Y.values.ravel())  )\n",
    "Plot_Graph(LS_Y,LS_Pred, LS_X,\"True\",\"Pred\")"
   ]
  },
  {
   "cell_type": "code",
   "execution_count": 545,
   "id": "30d988a2-9dad-4970-9cb2-fb316592e38e",
   "metadata": {},
   "outputs": [
    {
     "data": {
      "image/png": "[encoded data removed]",
      "text/plain": [
       "<Figure size 432x288 with 1 Axes>"
      ]
     },
     "metadata": {
      "needs_background": "light"
     },
     "output_type": "display_data"
    }
   ],
   "source": [
    "#Plot_Graph(True_Value, Pred_Value,X_Value ,  True_Name, Pred_Name):\n",
    "test=Louisiana_RF.predict(Louisiana_ValX)\n",
    "\n",
    "Plot_Graph(Louisiana_Valy, test, Louisiana_ValX, \"true\", \"pred\")"
   ]
  },
  {
   "cell_type": "code",
   "execution_count": 546,
   "id": "f04287ab-697b-4a0b-9d71-6597cdecb59d",
   "metadata": {},
   "outputs": [
    {
     "data": {
      "text/plain": [
       "36"
      ]
     },
     "execution_count": 546,
     "metadata": {},
     "output_type": "execute_result"
    }
   ],
   "source": [
    "#print(\"Random Forest Dubai RMSE =\",RMSE(Dubai_Pred, Dubai_Valy.values.ravel()) ,\" , MAPE = \", MAPE(Dubai_Pred, Dubai_Valy.values.ravel())  )\n",
    "\n",
    "len(Brent_Pred)\n",
    "#len(Brent_Valy.values)"
   ]
  },
  {
   "cell_type": "code",
   "execution_count": 547,
   "id": "1a8b7776-e5fa-4a66-9af6-21b9f9192fe8",
   "metadata": {},
   "outputs": [
    {
     "ename": "NameError",
     "evalue": "name 'Train' is not defined",
     "output_type": "error",
     "traceback": [
      "\u001b[1;31m---------------------------------------------------------------------------\u001b[0m",
      "\u001b[1;31mNameError\u001b[0m                                 Traceback (most recent call last)",
      "\u001b[1;32m~\\AppData\\Local\\Temp/ipykernel_33960/2802065361.py\u001b[0m in \u001b[0;36m<module>\u001b[1;34m\u001b[0m\n\u001b[1;32m----> 1\u001b[1;33m \u001b[0mlop\u001b[0m\u001b[1;33m=\u001b[0m\u001b[0msum\u001b[0m\u001b[1;33m(\u001b[0m\u001b[0mTrain\u001b[0m\u001b[1;33m.\u001b[0m\u001b[0mPrice\u001b[0m\u001b[1;33m)\u001b[0m\u001b[1;33m/\u001b[0m\u001b[0mlen\u001b[0m\u001b[1;33m(\u001b[0m\u001b[0mTrain\u001b[0m\u001b[1;33m)\u001b[0m\u001b[1;33m\u001b[0m\u001b[1;33m\u001b[0m\u001b[0m\n\u001b[0m\u001b[0;32m      2\u001b[0m \u001b[0mprint\u001b[0m\u001b[1;33m(\u001b[0m\u001b[0msqrt\u001b[0m\u001b[1;33m(\u001b[0m\u001b[0msum\u001b[0m\u001b[1;33m(\u001b[0m\u001b[1;33m(\u001b[0m\u001b[0mlop\u001b[0m\u001b[1;33m-\u001b[0m\u001b[0mTesty\u001b[0m\u001b[1;33m)\u001b[0m\u001b[1;33m**\u001b[0m\u001b[1;36m2\u001b[0m\u001b[1;33m)\u001b[0m\u001b[1;33m/\u001b[0m\u001b[0mlen\u001b[0m\u001b[1;33m(\u001b[0m\u001b[0mTesty\u001b[0m\u001b[1;33m)\u001b[0m\u001b[1;33m)\u001b[0m\u001b[1;33m)\u001b[0m\u001b[1;33m\u001b[0m\u001b[1;33m\u001b[0m\u001b[0m\n\u001b[0;32m      3\u001b[0m \u001b[0msqrt\u001b[0m\u001b[1;33m(\u001b[0m\u001b[0msum\u001b[0m\u001b[1;33m(\u001b[0m\u001b[1;33m(\u001b[0m\u001b[1;36m74.6695\u001b[0m\u001b[1;33m-\u001b[0m\u001b[0mTesty\u001b[0m\u001b[1;33m)\u001b[0m\u001b[1;33m**\u001b[0m\u001b[1;36m2\u001b[0m\u001b[1;33m)\u001b[0m\u001b[1;33m/\u001b[0m\u001b[0mlen\u001b[0m\u001b[1;33m(\u001b[0m\u001b[0mTesty\u001b[0m\u001b[1;33m)\u001b[0m\u001b[1;33m)\u001b[0m\u001b[1;33m\u001b[0m\u001b[1;33m\u001b[0m\u001b[0m\n",
      "\u001b[1;31mNameError\u001b[0m: name 'Train' is not defined"
     ]
    }
   ],
   "source": [
    "lop=sum(Train.Price)/len(Train)\n",
    "print(sqrt(sum((lop-Testy)**2)/len(Testy)))\n",
    "sqrt(sum((74.6695-Testy)**2)/len(Testy))"
   ]
  },
  {
   "cell_type": "code",
   "execution_count": 548,
   "id": "df8bf59c-d623-407d-83b2-539b6450775b",
   "metadata": {},
   "outputs": [
    {
     "data": {
      "text/html": [
       "<div>\n",
       "<style scoped>\n",
       "    .dataframe tbody tr th:only-of-type {\n",
       "        vertical-align: middle;\n",
       "    }\n",
       "\n",
       "    .dataframe tbody tr th {\n",
       "        vertical-align: top;\n",
       "    }\n",
       "\n",
       "    .dataframe thead th {\n",
       "        text-align: right;\n",
       "    }\n",
       "</style>\n",
       "<table border=\"1\" class=\"dataframe\">\n",
       "  <thead>\n",
       "    <tr style=\"text-align: right;\">\n",
       "      <th></th>\n",
       "      <th>Date</th>\n",
       "      <th>Crude Oil (petroleum),  Dated Brent</th>\n",
       "      <th>Year</th>\n",
       "      <th>month</th>\n",
       "      <th>quarter</th>\n",
       "    </tr>\n",
       "  </thead>\n",
       "  <tbody>\n",
       "    <tr>\n",
       "      <th>0</th>\n",
       "      <td>1980-01-01</td>\n",
       "      <td>40.0000</td>\n",
       "      <td>1980</td>\n",
       "      <td>1</td>\n",
       "      <td>1</td>\n",
       "    </tr>\n",
       "    <tr>\n",
       "      <th>1</th>\n",
       "      <td>1980-02-01</td>\n",
       "      <td>38.5000</td>\n",
       "      <td>1980</td>\n",
       "      <td>2</td>\n",
       "      <td>1</td>\n",
       "    </tr>\n",
       "    <tr>\n",
       "      <th>2</th>\n",
       "      <td>1980-03-01</td>\n",
       "      <td>38.2500</td>\n",
       "      <td>1980</td>\n",
       "      <td>3</td>\n",
       "      <td>1</td>\n",
       "    </tr>\n",
       "    <tr>\n",
       "      <th>3</th>\n",
       "      <td>1980-04-01</td>\n",
       "      <td>38.1500</td>\n",
       "      <td>1980</td>\n",
       "      <td>4</td>\n",
       "      <td>2</td>\n",
       "    </tr>\n",
       "    <tr>\n",
       "      <th>4</th>\n",
       "      <td>1980-05-01</td>\n",
       "      <td>38.5000</td>\n",
       "      <td>1980</td>\n",
       "      <td>5</td>\n",
       "      <td>2</td>\n",
       "    </tr>\n",
       "    <tr>\n",
       "      <th>...</th>\n",
       "      <td>...</td>\n",
       "      <td>...</td>\n",
       "      <td>...</td>\n",
       "      <td>...</td>\n",
       "      <td>...</td>\n",
       "    </tr>\n",
       "    <tr>\n",
       "      <th>445</th>\n",
       "      <td>2017-02-01</td>\n",
       "      <td>55.4935</td>\n",
       "      <td>2017</td>\n",
       "      <td>2</td>\n",
       "      <td>1</td>\n",
       "    </tr>\n",
       "    <tr>\n",
       "      <th>446</th>\n",
       "      <td>2017-03-01</td>\n",
       "      <td>51.9683</td>\n",
       "      <td>2017</td>\n",
       "      <td>3</td>\n",
       "      <td>1</td>\n",
       "    </tr>\n",
       "    <tr>\n",
       "      <th>447</th>\n",
       "      <td>2017-04-01</td>\n",
       "      <td>53.0635</td>\n",
       "      <td>2017</td>\n",
       "      <td>4</td>\n",
       "      <td>2</td>\n",
       "    </tr>\n",
       "    <tr>\n",
       "      <th>448</th>\n",
       "      <td>2017-05-01</td>\n",
       "      <td>50.8709</td>\n",
       "      <td>2017</td>\n",
       "      <td>5</td>\n",
       "      <td>2</td>\n",
       "    </tr>\n",
       "    <tr>\n",
       "      <th>449</th>\n",
       "      <td>2017-06-01</td>\n",
       "      <td>46.8945</td>\n",
       "      <td>2017</td>\n",
       "      <td>6</td>\n",
       "      <td>2</td>\n",
       "    </tr>\n",
       "  </tbody>\n",
       "</table>\n",
       "<p>450 rows × 5 columns</p>\n",
       "</div>"
      ],
      "text/plain": [
       "          Date  Crude Oil (petroleum),  Dated Brent  Year  month  quarter\n",
       "0   1980-01-01                              40.0000  1980      1        1\n",
       "1   1980-02-01                              38.5000  1980      2        1\n",
       "2   1980-03-01                              38.2500  1980      3        1\n",
       "3   1980-04-01                              38.1500  1980      4        2\n",
       "4   1980-05-01                              38.5000  1980      5        2\n",
       "..         ...                                  ...   ...    ...      ...\n",
       "445 2017-02-01                              55.4935  2017      2        1\n",
       "446 2017-03-01                              51.9683  2017      3        1\n",
       "447 2017-04-01                              53.0635  2017      4        2\n",
       "448 2017-05-01                              50.8709  2017      5        2\n",
       "449 2017-06-01                              46.8945  2017      6        2\n",
       "\n",
       "[450 rows x 5 columns]"
      ]
     },
     "execution_count": 548,
     "metadata": {},
     "output_type": "execute_result"
    }
   ],
   "source": [
    "Brent\n",
    "#West_Taxas\n",
    "#Australian\n",
    "#Dubai\n",
    "#Russian\n",
    "#Louisiana"
   ]
  },
  {
   "cell_type": "markdown",
   "id": "d393d7cb-3263-4deb-9843-e026b6eea549",
   "metadata": {
    "tags": []
   },
   "source": [
    "# Artificial neural network "
   ]
  },
  {
   "cell_type": "code",
   "execution_count": 549,
   "id": "ddb06614-d01c-4eed-98bb-5a4d5315ec31",
   "metadata": {},
   "outputs": [
    {
     "data": {
      "text/plain": [
       "(308, 308)"
      ]
     },
     "execution_count": 549,
     "metadata": {},
     "output_type": "execute_result"
    }
   ],
   "source": [
    "(len(Australian_HTrainX), len(Brent_HTrainX))\n"
   ]
  },
  {
   "cell_type": "code",
   "execution_count": 550,
   "id": "899ad50c-2df1-4118-956f-8202505f1ded",
   "metadata": {},
   "outputs": [
    {
     "data": {
      "text/plain": [
       "Index(['Year', 't-10', 't-9', 't-8', 't-7', 't-6', 't-5', 't-4', 't-3', 't-2',\n",
       "       't-1', 'month_1', 'month_2', 'month_3', 'month_4', 'month_5', 'month_6',\n",
       "       'month_7', 'month_8', 'month_9', 'month_10', 'month_11', 'month_12',\n",
       "       'quarter_1', 'quarter_2', 'quarter_3', 'quarter_4'],\n",
       "      dtype='object')"
      ]
     },
     "execution_count": 550,
     "metadata": {},
     "output_type": "execute_result"
    }
   ],
   "source": [
    "Brent_HTrainX.columns"
   ]
  },
  {
   "cell_type": "markdown",
   "id": "e1209065-4d5a-4e35-9883-8bcd700ef4ba",
   "metadata": {},
   "source": [
    "#### Hot encoding month and quarters "
   ]
  },
  {
   "cell_type": "code",
   "execution_count": 551,
   "id": "ffb3abc5-f630-4eeb-8d53-42ede95664dd",
   "metadata": {},
   "outputs": [],
   "source": [
    "def Hot_encode(data):\n",
    "    result=pd.concat([data ,pd.get_dummies(data['month'], prefix='month')],axis=1)\n",
    "    result=pd.concat([result ,pd.get_dummies(result['quarter'], prefix='quarter')],axis=1)\n",
    "    return result.drop([\"month\", \"quarter\"], axis=1)\n",
    "    "
   ]
  },
  {
   "cell_type": "code",
   "execution_count": 552,
   "id": "bf92da47-3caa-4b7b-980e-4d6b03d7099c",
   "metadata": {},
   "outputs": [
    {
     "data": {
      "text/html": [
       "<div>\n",
       "<style scoped>\n",
       "    .dataframe tbody tr th:only-of-type {\n",
       "        vertical-align: middle;\n",
       "    }\n",
       "\n",
       "    .dataframe tbody tr th {\n",
       "        vertical-align: top;\n",
       "    }\n",
       "\n",
       "    .dataframe thead th {\n",
       "        text-align: right;\n",
       "    }\n",
       "</style>\n",
       "<table border=\"1\" class=\"dataframe\">\n",
       "  <thead>\n",
       "    <tr style=\"text-align: right;\">\n",
       "      <th></th>\n",
       "      <th>Year</th>\n",
       "      <th>t-18</th>\n",
       "      <th>t-17</th>\n",
       "      <th>t-16</th>\n",
       "      <th>t-15</th>\n",
       "      <th>t-14</th>\n",
       "      <th>t-13</th>\n",
       "      <th>t-12</th>\n",
       "      <th>t-11</th>\n",
       "      <th>t-10</th>\n",
       "      <th>...</th>\n",
       "      <th>month_7</th>\n",
       "      <th>month_8</th>\n",
       "      <th>month_9</th>\n",
       "      <th>month_10</th>\n",
       "      <th>month_11</th>\n",
       "      <th>month_12</th>\n",
       "      <th>quarter_1</th>\n",
       "      <th>quarter_2</th>\n",
       "      <th>quarter_3</th>\n",
       "      <th>quarter_4</th>\n",
       "    </tr>\n",
       "  </thead>\n",
       "  <tbody>\n",
       "    <tr>\n",
       "      <th>0</th>\n",
       "      <td>1981</td>\n",
       "      <td>37.00</td>\n",
       "      <td>37.04</td>\n",
       "      <td>39.52</td>\n",
       "      <td>39.50</td>\n",
       "      <td>39.50</td>\n",
       "      <td>39.50</td>\n",
       "      <td>39.49</td>\n",
       "      <td>38.01</td>\n",
       "      <td>36.02</td>\n",
       "      <td>...</td>\n",
       "      <td>1</td>\n",
       "      <td>0</td>\n",
       "      <td>0</td>\n",
       "      <td>0</td>\n",
       "      <td>0</td>\n",
       "      <td>0</td>\n",
       "      <td>0</td>\n",
       "      <td>0</td>\n",
       "      <td>1</td>\n",
       "      <td>0</td>\n",
       "    </tr>\n",
       "    <tr>\n",
       "      <th>1</th>\n",
       "      <td>1981</td>\n",
       "      <td>37.04</td>\n",
       "      <td>39.52</td>\n",
       "      <td>39.50</td>\n",
       "      <td>39.50</td>\n",
       "      <td>39.50</td>\n",
       "      <td>39.49</td>\n",
       "      <td>38.01</td>\n",
       "      <td>36.02</td>\n",
       "      <td>36.00</td>\n",
       "      <td>...</td>\n",
       "      <td>0</td>\n",
       "      <td>1</td>\n",
       "      <td>0</td>\n",
       "      <td>0</td>\n",
       "      <td>0</td>\n",
       "      <td>0</td>\n",
       "      <td>0</td>\n",
       "      <td>0</td>\n",
       "      <td>1</td>\n",
       "      <td>0</td>\n",
       "    </tr>\n",
       "    <tr>\n",
       "      <th>2</th>\n",
       "      <td>1981</td>\n",
       "      <td>39.52</td>\n",
       "      <td>39.50</td>\n",
       "      <td>39.50</td>\n",
       "      <td>39.50</td>\n",
       "      <td>39.49</td>\n",
       "      <td>38.01</td>\n",
       "      <td>36.02</td>\n",
       "      <td>36.00</td>\n",
       "      <td>35.98</td>\n",
       "      <td>...</td>\n",
       "      <td>0</td>\n",
       "      <td>0</td>\n",
       "      <td>1</td>\n",
       "      <td>0</td>\n",
       "      <td>0</td>\n",
       "      <td>0</td>\n",
       "      <td>0</td>\n",
       "      <td>0</td>\n",
       "      <td>1</td>\n",
       "      <td>0</td>\n",
       "    </tr>\n",
       "    <tr>\n",
       "      <th>3</th>\n",
       "      <td>1981</td>\n",
       "      <td>39.50</td>\n",
       "      <td>39.50</td>\n",
       "      <td>39.50</td>\n",
       "      <td>39.49</td>\n",
       "      <td>38.01</td>\n",
       "      <td>36.02</td>\n",
       "      <td>36.00</td>\n",
       "      <td>35.98</td>\n",
       "      <td>36.99</td>\n",
       "      <td>...</td>\n",
       "      <td>0</td>\n",
       "      <td>0</td>\n",
       "      <td>0</td>\n",
       "      <td>1</td>\n",
       "      <td>0</td>\n",
       "      <td>0</td>\n",
       "      <td>0</td>\n",
       "      <td>0</td>\n",
       "      <td>0</td>\n",
       "      <td>1</td>\n",
       "    </tr>\n",
       "    <tr>\n",
       "      <th>4</th>\n",
       "      <td>1981</td>\n",
       "      <td>39.50</td>\n",
       "      <td>39.50</td>\n",
       "      <td>39.49</td>\n",
       "      <td>38.01</td>\n",
       "      <td>36.02</td>\n",
       "      <td>36.00</td>\n",
       "      <td>35.98</td>\n",
       "      <td>36.99</td>\n",
       "      <td>38.00</td>\n",
       "      <td>...</td>\n",
       "      <td>0</td>\n",
       "      <td>0</td>\n",
       "      <td>0</td>\n",
       "      <td>0</td>\n",
       "      <td>1</td>\n",
       "      <td>0</td>\n",
       "      <td>0</td>\n",
       "      <td>0</td>\n",
       "      <td>0</td>\n",
       "      <td>1</td>\n",
       "    </tr>\n",
       "  </tbody>\n",
       "</table>\n",
       "<p>5 rows × 35 columns</p>\n",
       "</div>"
      ],
      "text/plain": [
       "   Year   t-18   t-17   t-16   t-15   t-14   t-13   t-12   t-11   t-10  ...  \\\n",
       "0  1981  37.00  37.04  39.52  39.50  39.50  39.50  39.49  38.01  36.02  ...   \n",
       "1  1981  37.04  39.52  39.50  39.50  39.50  39.49  38.01  36.02  36.00  ...   \n",
       "2  1981  39.52  39.50  39.50  39.50  39.49  38.01  36.02  36.00  35.98  ...   \n",
       "3  1981  39.50  39.50  39.50  39.49  38.01  36.02  36.00  35.98  36.99  ...   \n",
       "4  1981  39.50  39.50  39.49  38.01  36.02  36.00  35.98  36.99  38.00  ...   \n",
       "\n",
       "   month_7  month_8  month_9  month_10  month_11  month_12  quarter_1  \\\n",
       "0        1        0        0         0         0         0          0   \n",
       "1        0        1        0         0         0         0          0   \n",
       "2        0        0        1         0         0         0          0   \n",
       "3        0        0        0         1         0         0          0   \n",
       "4        0        0        0         0         1         0          0   \n",
       "\n",
       "   quarter_2  quarter_3  quarter_4  \n",
       "0          0          1          0  \n",
       "1          0          1          0  \n",
       "2          0          1          0  \n",
       "3          0          0          1  \n",
       "4          0          0          1  \n",
       "\n",
       "[5 rows x 35 columns]"
      ]
     },
     "execution_count": 552,
     "metadata": {},
     "output_type": "execute_result"
    }
   ],
   "source": [
    "\n",
    "#Brent_HTrainX=Hot_encode(Brent_TrainX)\n",
    "West_Taxas_HTrainX=Hot_encode(West_Taxas_TrainX)\n",
    "Australian_HTrainX=Hot_encode(Australian_TrainX)\n",
    "Dubai_HTrainX=Hot_encode(Dubai_TrainX)\n",
    "Russian_HTrainX=Hot_encode(Russian_TrainX)\n",
    "Louisiana_HTrainX=Hot_encode(Louisiana_TrainX)\n",
    "West_Taxas_HTrainX.head()"
   ]
  },
  {
   "cell_type": "markdown",
   "id": "41affcf5-39fc-46a7-a349-048cfbd2fc04",
   "metadata": {},
   "source": [
    "#### normalizing the Train set using min-Max because there are some features that are hot encoded"
   ]
  },
  {
   "cell_type": "code",
   "execution_count": 553,
   "id": "aff6f36e-19eb-4e1a-9378-936fe99615c8",
   "metadata": {},
   "outputs": [],
   "source": [
    "from sklearn.neural_network import MLPRegressor\n",
    "from sklearn.preprocessing import MinMaxScaler\n",
    "\n",
    "#Brent_Scaler=MinMaxScaler()\n",
    "#Brent_STrainX=Brent_Scaler.fit_transform(Brent_HTrainX)\n",
    "\n",
    "West_Taxas_Scaler=MinMaxScaler()\n",
    "West_Taxas_STrainX=West_Taxas_Scaler.fit_transform(West_Taxas_HTrainX)\n",
    "\n",
    "Australian_Scaler=MinMaxScaler()\n",
    "Australian_STrainX=Australian_Scaler.fit_transform(Australian_HTrainX)\n",
    "\n",
    "Dubai_Scaler=MinMaxScaler()\n",
    "Dubai_STrainX=Dubai_Scaler.fit_transform(Dubai_HTrainX)\n",
    "\n",
    "Russian_Scaler=MinMaxScaler()\n",
    "Russian_STrainX=Russian_Scaler.fit_transform(Russian_HTrainX)\n",
    "\n",
    "Louisiana_Scaler=MinMaxScaler()\n",
    "Louisiana_STrainX=Louisiana_Scaler.fit_transform(Louisiana_HTrainX)"
   ]
  },
  {
   "cell_type": "code",
   "execution_count": null,
   "id": "3d8dec8c-c59c-4643-8ca8-6d19826e2a14",
   "metadata": {},
   "outputs": [
    {
     "data": {
      "text/plain": [
       "(308, 308)"
      ]
     },
     "execution_count": 90,
     "metadata": {},
     "output_type": "execute_result"
    }
   ],
   "source": [
    "#(len(Brent_STrainX),len(West_Taxas_STrainX))"
   ]
  },
  {
   "cell_type": "code",
   "execution_count": 554,
   "id": "ce39e229-1403-4287-8f16-7318a5e92549",
   "metadata": {},
   "outputs": [],
   "source": [
    "def ANN_Regresion(TrainX, Trainy, hidden_Layer=(3,3), LR=0.001, alp=0.001, maxItr=1000):\n",
    "        ANN = MLPRegressor(random_state=2,max_iter=maxItr , hidden_layer_sizes =hidden_Layer, learning_rate_init=LR , alpha=alp, learning_rate=\"adaptive\")\n",
    "        ANN.fit(TrainX, Trainy.values.ravel())\n",
    "        return ANN"
   ]
  },
  {
   "cell_type": "code",
   "execution_count": null,
   "id": "90661cab-bdad-4b7a-8246-74a746b3da25",
   "metadata": {},
   "outputs": [
    {
     "name": "stdout",
     "output_type": "stream",
     "text": [
      "ANN  Brent RMSE = 10.626049596514521  , MAPE =  7.941648920171336\n"
     ]
    }
   ],
   "source": [
    "Brent_ANN=ANN_Regresion(Brent_STrainX, Brent_Trainy,hidden_Layer=(9,9,9), LR=0.0001, alp=0.001 , maxItr=100000)\n",
    "Brent_APred=Brent_ANN.predict(Brent_Scaler.transform(Hot_encode(Brent_ValX)))\n",
    "print(\"ANN  Brent RMSE =\",RMSE(Brent_APred, Brent_Valy.values.ravel()) ,\" , MAPE = \", MAPE(Brent_APred, Brent_Valy.values.ravel())  )\n"
   ]
  },
  {
   "cell_type": "code",
   "execution_count": null,
   "id": "50cca498",
   "metadata": {},
   "outputs": [
    {
     "data": {
      "image/png": "[encoded data removed]",
      "text/plain": [
       "<Figure size 432x288 with 1 Axes>"
      ]
     },
     "metadata": {
      "needs_background": "light"
     },
     "output_type": "display_data"
    }
   ],
   "source": [
    "plt.plot(test_Time.test,Brent_APred )\n",
    "plt.plot(test_Time.test,Brent_Valy.values.ravel())\n",
    "plt.show()"
   ]
  },
  {
   "cell_type": "code",
   "execution_count": null,
   "id": "015b889d-a108-4b1f-a735-211903532e2d",
   "metadata": {},
   "outputs": [
    {
     "data": {
      "text/plain": [
       "array([ 69.95231538,  74.39409099,  74.61381144,  67.23663793,\n",
       "        60.38046762,  60.04954893,  63.86180363,  58.81025138,\n",
       "        60.27552934,  64.17613784,  69.58934689,  69.64510497,\n",
       "        71.39776072,  76.69664257,  73.57496128,  74.74125981,\n",
       "        76.4532478 ,  84.42883908,  89.87563469,  89.18633905,\n",
       "        90.08944327,  97.08472538, 105.37742517, 113.43526935,\n",
       "       122.34025987, 127.07707205, 115.27092658, 101.68558671,\n",
       "        82.01583944,  60.47421425,  48.56993198,  48.53073141,\n",
       "        50.45552154,  53.25852118,  57.69029203,  61.34810325,\n",
       "        69.76501097,  68.89160976,  69.8470202 ,  66.22176555,\n",
       "        66.42989257,  70.44475079,  75.4720093 ])"
      ]
     },
     "execution_count": 94,
     "metadata": {},
     "output_type": "execute_result"
    }
   ],
   "source": [
    "Brent_APred"
   ]
  },
  {
   "cell_type": "code",
   "execution_count": null,
   "id": "48ed4432-88da-40f6-be29-43c0bbb428fb",
   "metadata": {},
   "outputs": [
    {
     "data": {
      "text/plain": [
       "array([ 73.9   ,  73.61  ,  62.77  ,  58.38  ,  58.48  ,  62.31  ,\n",
       "        54.3   ,  57.76  ,  62.14  ,  67.4   ,  67.48  ,  71.32  ,\n",
       "        77.2   ,  70.8   ,  77.13  ,  83.04  ,  92.53  ,  91.45  ,\n",
       "        91.92  ,  94.82  , 103.28  , 110.44  , 123.94  , 133.05  ,\n",
       "       133.9   , 113.85  ,  99.06  ,  72.84  ,  53.24  ,  41.58  ,\n",
       "        44.86  ,  43.2425,  46.8391,  50.8452,  57.9381,  68.5936,\n",
       "        64.9165,  72.5048,  67.6868,  73.1941,  77.0367,  74.6695,\n",
       "        76.373 ])"
      ]
     },
     "execution_count": 95,
     "metadata": {},
     "output_type": "execute_result"
    }
   ],
   "source": [
    "Brent_Valy.values.ravel()"
   ]
  },
  {
   "cell_type": "code",
   "execution_count": 570,
   "id": "ba044f21",
   "metadata": {},
   "outputs": [
    {
     "data": {
      "text/plain": [
       "35"
      ]
     },
     "execution_count": 570,
     "metadata": {},
     "output_type": "execute_result"
    }
   ],
   "source": [
    "len(West_Taxas_Scaler.transform(Hot_encode(West_Taxas_ValX))[0])"
   ]
  },
  {
   "cell_type": "code",
   "execution_count": 571,
   "id": "b6bc5ed2-3ccd-437a-a222-e75cef7a89cf",
   "metadata": {},
   "outputs": [],
   "source": [
    "West_ANN=ANN_Regresion(West_Taxas_STrainX, West_Taxas_Trainy,hidden_Layer=(100,), LR=0.0001, alp=0.001 , maxItr=100000)\n"
   ]
  },
  {
   "cell_type": "code",
   "execution_count": 572,
   "id": "63c159d1",
   "metadata": {},
   "outputs": [
    {
     "ename": "ValueError",
     "evalue": "X has 35 features, but MLPRegressor is expecting 27 features as input.",
     "output_type": "error",
     "traceback": [
      "\u001b[1;31m---------------------------------------------------------------------------\u001b[0m",
      "\u001b[1;31mValueError\u001b[0m                                Traceback (most recent call last)",
      "\u001b[1;32m~\\AppData\\Local\\Temp/ipykernel_33960/4240461556.py\u001b[0m in \u001b[0;36m<module>\u001b[1;34m\u001b[0m\n\u001b[1;32m----> 1\u001b[1;33m \u001b[0mWest_APred\u001b[0m\u001b[1;33m=\u001b[0m\u001b[0mBrent_ANN\u001b[0m\u001b[1;33m.\u001b[0m\u001b[0mpredict\u001b[0m\u001b[1;33m(\u001b[0m\u001b[0mWest_Taxas_Scaler\u001b[0m\u001b[1;33m.\u001b[0m\u001b[0mtransform\u001b[0m\u001b[1;33m(\u001b[0m\u001b[0mHot_encode\u001b[0m\u001b[1;33m(\u001b[0m\u001b[0mWest_Taxas_ValX\u001b[0m\u001b[1;33m)\u001b[0m\u001b[1;33m)\u001b[0m\u001b[1;33m)\u001b[0m\u001b[1;33m\u001b[0m\u001b[1;33m\u001b[0m\u001b[0m\n\u001b[0m\u001b[0;32m      2\u001b[0m \u001b[0mprint\u001b[0m\u001b[1;33m(\u001b[0m\u001b[1;34m\"ANN West Taxas RMSE =\"\u001b[0m\u001b[1;33m,\u001b[0m\u001b[0mRMSE\u001b[0m\u001b[1;33m(\u001b[0m\u001b[0mWest_APred\u001b[0m\u001b[1;33m,\u001b[0m \u001b[0mWest_Taxas_Valy\u001b[0m\u001b[1;33m.\u001b[0m\u001b[0mvalues\u001b[0m\u001b[1;33m.\u001b[0m\u001b[0mravel\u001b[0m\u001b[1;33m(\u001b[0m\u001b[1;33m)\u001b[0m\u001b[1;33m)\u001b[0m \u001b[1;33m,\u001b[0m\u001b[1;34m\" , MAPE = \"\u001b[0m\u001b[1;33m,\u001b[0m \u001b[0mMAPE\u001b[0m\u001b[1;33m(\u001b[0m\u001b[0mWest_APred\u001b[0m\u001b[1;33m,\u001b[0m \u001b[0mWest_Taxas_Valy\u001b[0m\u001b[1;33m.\u001b[0m\u001b[0mvalues\u001b[0m\u001b[1;33m.\u001b[0m\u001b[0mravel\u001b[0m\u001b[1;33m(\u001b[0m\u001b[1;33m)\u001b[0m\u001b[1;33m)\u001b[0m  \u001b[1;33m)\u001b[0m\u001b[1;33m\u001b[0m\u001b[1;33m\u001b[0m\u001b[0m\n",
      "\u001b[1;32mc:\\Python38\\lib\\site-packages\\sklearn\\neural_network\\_multilayer_perceptron.py\u001b[0m in \u001b[0;36mpredict\u001b[1;34m(self, X)\u001b[0m\n\u001b[0;32m   1407\u001b[0m         \"\"\"\n\u001b[0;32m   1408\u001b[0m         \u001b[0mcheck_is_fitted\u001b[0m\u001b[1;33m(\u001b[0m\u001b[0mself\u001b[0m\u001b[1;33m)\u001b[0m\u001b[1;33m\u001b[0m\u001b[1;33m\u001b[0m\u001b[0m\n\u001b[1;32m-> 1409\u001b[1;33m         \u001b[0my_pred\u001b[0m \u001b[1;33m=\u001b[0m \u001b[0mself\u001b[0m\u001b[1;33m.\u001b[0m\u001b[0m_forward_pass_fast\u001b[0m\u001b[1;33m(\u001b[0m\u001b[0mX\u001b[0m\u001b[1;33m)\u001b[0m\u001b[1;33m\u001b[0m\u001b[1;33m\u001b[0m\u001b[0m\n\u001b[0m\u001b[0;32m   1410\u001b[0m         \u001b[1;32mif\u001b[0m \u001b[0my_pred\u001b[0m\u001b[1;33m.\u001b[0m\u001b[0mshape\u001b[0m\u001b[1;33m[\u001b[0m\u001b[1;36m1\u001b[0m\u001b[1;33m]\u001b[0m \u001b[1;33m==\u001b[0m \u001b[1;36m1\u001b[0m\u001b[1;33m:\u001b[0m\u001b[1;33m\u001b[0m\u001b[1;33m\u001b[0m\u001b[0m\n\u001b[0;32m   1411\u001b[0m             \u001b[1;32mreturn\u001b[0m \u001b[0my_pred\u001b[0m\u001b[1;33m.\u001b[0m\u001b[0mravel\u001b[0m\u001b[1;33m(\u001b[0m\u001b[1;33m)\u001b[0m\u001b[1;33m\u001b[0m\u001b[1;33m\u001b[0m\u001b[0m\n",
      "\u001b[1;32mc:\\Python38\\lib\\site-packages\\sklearn\\neural_network\\_multilayer_perceptron.py\u001b[0m in \u001b[0;36m_forward_pass_fast\u001b[1;34m(self, X)\u001b[0m\n\u001b[0;32m    132\u001b[0m             \u001b[0mThe\u001b[0m \u001b[0mdecision\u001b[0m \u001b[0mfunction\u001b[0m \u001b[0mof\u001b[0m \u001b[0mthe\u001b[0m \u001b[0msamples\u001b[0m \u001b[1;32mfor\u001b[0m \u001b[0meach\u001b[0m \u001b[1;32mclass\u001b[0m \u001b[1;32min\u001b[0m \u001b[0mthe\u001b[0m \u001b[0mmodel\u001b[0m\u001b[1;33m.\u001b[0m\u001b[1;33m\u001b[0m\u001b[1;33m\u001b[0m\u001b[0m\n\u001b[0;32m    133\u001b[0m         \"\"\"\n\u001b[1;32m--> 134\u001b[1;33m         \u001b[0mX\u001b[0m \u001b[1;33m=\u001b[0m \u001b[0mself\u001b[0m\u001b[1;33m.\u001b[0m\u001b[0m_validate_data\u001b[0m\u001b[1;33m(\u001b[0m\u001b[0mX\u001b[0m\u001b[1;33m,\u001b[0m \u001b[0maccept_sparse\u001b[0m\u001b[1;33m=\u001b[0m\u001b[1;33m[\u001b[0m\u001b[1;34m'csr'\u001b[0m\u001b[1;33m,\u001b[0m \u001b[1;34m'csc'\u001b[0m\u001b[1;33m]\u001b[0m\u001b[1;33m,\u001b[0m \u001b[0mreset\u001b[0m\u001b[1;33m=\u001b[0m\u001b[1;32mFalse\u001b[0m\u001b[1;33m)\u001b[0m\u001b[1;33m\u001b[0m\u001b[1;33m\u001b[0m\u001b[0m\n\u001b[0m\u001b[0;32m    135\u001b[0m \u001b[1;33m\u001b[0m\u001b[0m\n\u001b[0;32m    136\u001b[0m         \u001b[1;31m# Initialize first layer\u001b[0m\u001b[1;33m\u001b[0m\u001b[1;33m\u001b[0m\u001b[1;33m\u001b[0m\u001b[0m\n",
      "\u001b[1;32mc:\\Python38\\lib\\site-packages\\sklearn\\base.py\u001b[0m in \u001b[0;36m_validate_data\u001b[1;34m(self, X, y, reset, validate_separately, **check_params)\u001b[0m\n\u001b[0;32m    435\u001b[0m \u001b[1;33m\u001b[0m\u001b[0m\n\u001b[0;32m    436\u001b[0m         \u001b[1;32mif\u001b[0m \u001b[0mcheck_params\u001b[0m\u001b[1;33m.\u001b[0m\u001b[0mget\u001b[0m\u001b[1;33m(\u001b[0m\u001b[1;34m'ensure_2d'\u001b[0m\u001b[1;33m,\u001b[0m \u001b[1;32mTrue\u001b[0m\u001b[1;33m)\u001b[0m\u001b[1;33m:\u001b[0m\u001b[1;33m\u001b[0m\u001b[1;33m\u001b[0m\u001b[0m\n\u001b[1;32m--> 437\u001b[1;33m             \u001b[0mself\u001b[0m\u001b[1;33m.\u001b[0m\u001b[0m_check_n_features\u001b[0m\u001b[1;33m(\u001b[0m\u001b[0mX\u001b[0m\u001b[1;33m,\u001b[0m \u001b[0mreset\u001b[0m\u001b[1;33m=\u001b[0m\u001b[0mreset\u001b[0m\u001b[1;33m)\u001b[0m\u001b[1;33m\u001b[0m\u001b[1;33m\u001b[0m\u001b[0m\n\u001b[0m\u001b[0;32m    438\u001b[0m \u001b[1;33m\u001b[0m\u001b[0m\n\u001b[0;32m    439\u001b[0m         \u001b[1;32mreturn\u001b[0m \u001b[0mout\u001b[0m\u001b[1;33m\u001b[0m\u001b[1;33m\u001b[0m\u001b[0m\n",
      "\u001b[1;32mc:\\Python38\\lib\\site-packages\\sklearn\\base.py\u001b[0m in \u001b[0;36m_check_n_features\u001b[1;34m(self, X, reset)\u001b[0m\n\u001b[0;32m    363\u001b[0m \u001b[1;33m\u001b[0m\u001b[0m\n\u001b[0;32m    364\u001b[0m         \u001b[1;32mif\u001b[0m \u001b[0mn_features\u001b[0m \u001b[1;33m!=\u001b[0m \u001b[0mself\u001b[0m\u001b[1;33m.\u001b[0m\u001b[0mn_features_in_\u001b[0m\u001b[1;33m:\u001b[0m\u001b[1;33m\u001b[0m\u001b[1;33m\u001b[0m\u001b[0m\n\u001b[1;32m--> 365\u001b[1;33m             raise ValueError(\n\u001b[0m\u001b[0;32m    366\u001b[0m                 \u001b[1;34mf\"X has {n_features} features, but {self.__class__.__name__} \"\u001b[0m\u001b[1;33m\u001b[0m\u001b[1;33m\u001b[0m\u001b[0m\n\u001b[0;32m    367\u001b[0m                 f\"is expecting {self.n_features_in_} features as input.\")\n",
      "\u001b[1;31mValueError\u001b[0m: X has 35 features, but MLPRegressor is expecting 27 features as input."
     ]
    }
   ],
   "source": [
    "West_APred=Brent_ANN.predict(West_Taxas_Scaler.transform(Hot_encode(West_Taxas_ValX)))\n",
    "print(\"ANN West Taxas RMSE =\",RMSE(West_APred, West_Taxas_Valy.values.ravel()) ,\" , MAPE = \", MAPE(West_APred, West_Taxas_Valy.values.ravel())  )"
   ]
  },
  {
   "cell_type": "code",
   "execution_count": 556,
   "id": "c5dd8d3d-4cff-40c9-93c3-7e371edb35f8",
   "metadata": {},
   "outputs": [
    {
     "ename": "ValueError",
     "evalue": "X has 56 features, but MLPRegressor is expecting 27 features as input.",
     "output_type": "error",
     "traceback": [
      "\u001b[1;31m---------------------------------------------------------------------------\u001b[0m",
      "\u001b[1;31mValueError\u001b[0m                                Traceback (most recent call last)",
      "\u001b[1;32m~\\AppData\\Local\\Temp/ipykernel_33960/691588596.py\u001b[0m in \u001b[0;36m<module>\u001b[1;34m\u001b[0m\n\u001b[0;32m      1\u001b[0m \u001b[1;31m#try harder\u001b[0m\u001b[1;33m\u001b[0m\u001b[1;33m\u001b[0m\u001b[1;33m\u001b[0m\u001b[0m\n\u001b[0;32m      2\u001b[0m \u001b[0mAustralian_ANN\u001b[0m\u001b[1;33m=\u001b[0m\u001b[0mANN_Regresion\u001b[0m\u001b[1;33m(\u001b[0m\u001b[0mAustralian_STrainX\u001b[0m\u001b[1;33m,\u001b[0m \u001b[0mAustralian_Trainy\u001b[0m\u001b[1;33m,\u001b[0m\u001b[0mhidden_Layer\u001b[0m\u001b[1;33m=\u001b[0m\u001b[1;33m(\u001b[0m\u001b[1;36m9\u001b[0m\u001b[1;33m)\u001b[0m\u001b[1;33m,\u001b[0m \u001b[0mLR\u001b[0m\u001b[1;33m=\u001b[0m\u001b[1;36m0.0001\u001b[0m\u001b[1;33m,\u001b[0m \u001b[0malp\u001b[0m\u001b[1;33m=\u001b[0m\u001b[1;36m0.001\u001b[0m \u001b[1;33m,\u001b[0m \u001b[0mmaxItr\u001b[0m\u001b[1;33m=\u001b[0m\u001b[1;36m200000\u001b[0m\u001b[1;33m)\u001b[0m\u001b[1;33m\u001b[0m\u001b[1;33m\u001b[0m\u001b[0m\n\u001b[1;32m----> 3\u001b[1;33m \u001b[0mAustralian_APred\u001b[0m\u001b[1;33m=\u001b[0m\u001b[0mBrent_ANN\u001b[0m\u001b[1;33m.\u001b[0m\u001b[0mpredict\u001b[0m\u001b[1;33m(\u001b[0m\u001b[0mAustralian_Scaler\u001b[0m\u001b[1;33m.\u001b[0m\u001b[0mtransform\u001b[0m\u001b[1;33m(\u001b[0m\u001b[0mHot_encode\u001b[0m\u001b[1;33m(\u001b[0m\u001b[0mAustralian_ValX\u001b[0m\u001b[1;33m)\u001b[0m\u001b[1;33m)\u001b[0m\u001b[1;33m)\u001b[0m\u001b[1;33m\u001b[0m\u001b[1;33m\u001b[0m\u001b[0m\n\u001b[0m\u001b[0;32m      4\u001b[0m \u001b[0mprint\u001b[0m\u001b[1;33m(\u001b[0m\u001b[1;34m\"ANN Australian RMSE =\"\u001b[0m\u001b[1;33m,\u001b[0m\u001b[0mRMSE\u001b[0m\u001b[1;33m(\u001b[0m\u001b[0mAustralian_APred\u001b[0m\u001b[1;33m,\u001b[0m \u001b[0mAustralian_Valy\u001b[0m\u001b[1;33m.\u001b[0m\u001b[0mvalues\u001b[0m\u001b[1;33m.\u001b[0m\u001b[0mravel\u001b[0m\u001b[1;33m(\u001b[0m\u001b[1;33m)\u001b[0m\u001b[1;33m)\u001b[0m \u001b[1;33m,\u001b[0m\u001b[1;34m\" , MAPE = \"\u001b[0m\u001b[1;33m,\u001b[0m \u001b[0mMAPE\u001b[0m\u001b[1;33m(\u001b[0m\u001b[0mAustralian_APred\u001b[0m\u001b[1;33m,\u001b[0m \u001b[0mAustralian_Valy\u001b[0m\u001b[1;33m.\u001b[0m\u001b[0mvalues\u001b[0m\u001b[1;33m.\u001b[0m\u001b[0mravel\u001b[0m\u001b[1;33m(\u001b[0m\u001b[1;33m)\u001b[0m\u001b[1;33m)\u001b[0m  \u001b[1;33m)\u001b[0m\u001b[1;33m\u001b[0m\u001b[1;33m\u001b[0m\u001b[0m\n",
      "\u001b[1;32mc:\\Python38\\lib\\site-packages\\sklearn\\neural_network\\_multilayer_perceptron.py\u001b[0m in \u001b[0;36mpredict\u001b[1;34m(self, X)\u001b[0m\n\u001b[0;32m   1407\u001b[0m         \"\"\"\n\u001b[0;32m   1408\u001b[0m         \u001b[0mcheck_is_fitted\u001b[0m\u001b[1;33m(\u001b[0m\u001b[0mself\u001b[0m\u001b[1;33m)\u001b[0m\u001b[1;33m\u001b[0m\u001b[1;33m\u001b[0m\u001b[0m\n\u001b[1;32m-> 1409\u001b[1;33m         \u001b[0my_pred\u001b[0m \u001b[1;33m=\u001b[0m \u001b[0mself\u001b[0m\u001b[1;33m.\u001b[0m\u001b[0m_forward_pass_fast\u001b[0m\u001b[1;33m(\u001b[0m\u001b[0mX\u001b[0m\u001b[1;33m)\u001b[0m\u001b[1;33m\u001b[0m\u001b[1;33m\u001b[0m\u001b[0m\n\u001b[0m\u001b[0;32m   1410\u001b[0m         \u001b[1;32mif\u001b[0m \u001b[0my_pred\u001b[0m\u001b[1;33m.\u001b[0m\u001b[0mshape\u001b[0m\u001b[1;33m[\u001b[0m\u001b[1;36m1\u001b[0m\u001b[1;33m]\u001b[0m \u001b[1;33m==\u001b[0m \u001b[1;36m1\u001b[0m\u001b[1;33m:\u001b[0m\u001b[1;33m\u001b[0m\u001b[1;33m\u001b[0m\u001b[0m\n\u001b[0;32m   1411\u001b[0m             \u001b[1;32mreturn\u001b[0m \u001b[0my_pred\u001b[0m\u001b[1;33m.\u001b[0m\u001b[0mravel\u001b[0m\u001b[1;33m(\u001b[0m\u001b[1;33m)\u001b[0m\u001b[1;33m\u001b[0m\u001b[1;33m\u001b[0m\u001b[0m\n",
      "\u001b[1;32mc:\\Python38\\lib\\site-packages\\sklearn\\neural_network\\_multilayer_perceptron.py\u001b[0m in \u001b[0;36m_forward_pass_fast\u001b[1;34m(self, X)\u001b[0m\n\u001b[0;32m    132\u001b[0m             \u001b[0mThe\u001b[0m \u001b[0mdecision\u001b[0m \u001b[0mfunction\u001b[0m \u001b[0mof\u001b[0m \u001b[0mthe\u001b[0m \u001b[0msamples\u001b[0m \u001b[1;32mfor\u001b[0m \u001b[0meach\u001b[0m \u001b[1;32mclass\u001b[0m \u001b[1;32min\u001b[0m \u001b[0mthe\u001b[0m \u001b[0mmodel\u001b[0m\u001b[1;33m.\u001b[0m\u001b[1;33m\u001b[0m\u001b[1;33m\u001b[0m\u001b[0m\n\u001b[0;32m    133\u001b[0m         \"\"\"\n\u001b[1;32m--> 134\u001b[1;33m         \u001b[0mX\u001b[0m \u001b[1;33m=\u001b[0m \u001b[0mself\u001b[0m\u001b[1;33m.\u001b[0m\u001b[0m_validate_data\u001b[0m\u001b[1;33m(\u001b[0m\u001b[0mX\u001b[0m\u001b[1;33m,\u001b[0m \u001b[0maccept_sparse\u001b[0m\u001b[1;33m=\u001b[0m\u001b[1;33m[\u001b[0m\u001b[1;34m'csr'\u001b[0m\u001b[1;33m,\u001b[0m \u001b[1;34m'csc'\u001b[0m\u001b[1;33m]\u001b[0m\u001b[1;33m,\u001b[0m \u001b[0mreset\u001b[0m\u001b[1;33m=\u001b[0m\u001b[1;32mFalse\u001b[0m\u001b[1;33m)\u001b[0m\u001b[1;33m\u001b[0m\u001b[1;33m\u001b[0m\u001b[0m\n\u001b[0m\u001b[0;32m    135\u001b[0m \u001b[1;33m\u001b[0m\u001b[0m\n\u001b[0;32m    136\u001b[0m         \u001b[1;31m# Initialize first layer\u001b[0m\u001b[1;33m\u001b[0m\u001b[1;33m\u001b[0m\u001b[1;33m\u001b[0m\u001b[0m\n",
      "\u001b[1;32mc:\\Python38\\lib\\site-packages\\sklearn\\base.py\u001b[0m in \u001b[0;36m_validate_data\u001b[1;34m(self, X, y, reset, validate_separately, **check_params)\u001b[0m\n\u001b[0;32m    435\u001b[0m \u001b[1;33m\u001b[0m\u001b[0m\n\u001b[0;32m    436\u001b[0m         \u001b[1;32mif\u001b[0m \u001b[0mcheck_params\u001b[0m\u001b[1;33m.\u001b[0m\u001b[0mget\u001b[0m\u001b[1;33m(\u001b[0m\u001b[1;34m'ensure_2d'\u001b[0m\u001b[1;33m,\u001b[0m \u001b[1;32mTrue\u001b[0m\u001b[1;33m)\u001b[0m\u001b[1;33m:\u001b[0m\u001b[1;33m\u001b[0m\u001b[1;33m\u001b[0m\u001b[0m\n\u001b[1;32m--> 437\u001b[1;33m             \u001b[0mself\u001b[0m\u001b[1;33m.\u001b[0m\u001b[0m_check_n_features\u001b[0m\u001b[1;33m(\u001b[0m\u001b[0mX\u001b[0m\u001b[1;33m,\u001b[0m \u001b[0mreset\u001b[0m\u001b[1;33m=\u001b[0m\u001b[0mreset\u001b[0m\u001b[1;33m)\u001b[0m\u001b[1;33m\u001b[0m\u001b[1;33m\u001b[0m\u001b[0m\n\u001b[0m\u001b[0;32m    438\u001b[0m \u001b[1;33m\u001b[0m\u001b[0m\n\u001b[0;32m    439\u001b[0m         \u001b[1;32mreturn\u001b[0m \u001b[0mout\u001b[0m\u001b[1;33m\u001b[0m\u001b[1;33m\u001b[0m\u001b[0m\n",
      "\u001b[1;32mc:\\Python38\\lib\\site-packages\\sklearn\\base.py\u001b[0m in \u001b[0;36m_check_n_features\u001b[1;34m(self, X, reset)\u001b[0m\n\u001b[0;32m    363\u001b[0m \u001b[1;33m\u001b[0m\u001b[0m\n\u001b[0;32m    364\u001b[0m         \u001b[1;32mif\u001b[0m \u001b[0mn_features\u001b[0m \u001b[1;33m!=\u001b[0m \u001b[0mself\u001b[0m\u001b[1;33m.\u001b[0m\u001b[0mn_features_in_\u001b[0m\u001b[1;33m:\u001b[0m\u001b[1;33m\u001b[0m\u001b[1;33m\u001b[0m\u001b[0m\n\u001b[1;32m--> 365\u001b[1;33m             raise ValueError(\n\u001b[0m\u001b[0;32m    366\u001b[0m                 \u001b[1;34mf\"X has {n_features} features, but {self.__class__.__name__} \"\u001b[0m\u001b[1;33m\u001b[0m\u001b[1;33m\u001b[0m\u001b[0m\n\u001b[0;32m    367\u001b[0m                 f\"is expecting {self.n_features_in_} features as input.\")\n",
      "\u001b[1;31mValueError\u001b[0m: X has 56 features, but MLPRegressor is expecting 27 features as input."
     ]
    }
   ],
   "source": [
    "#try harder \n",
    "Australian_ANN=ANN_Regresion(Australian_STrainX, Australian_Trainy,hidden_Layer=(9), LR=0.0001, alp=0.001 , maxItr=200000)\n",
    "Australian_APred=Brent_ANN.predict(Australian_Scaler.transform(Hot_encode(Australian_ValX)))\n",
    "print(\"ANN Australian RMSE =\",RMSE(Australian_APred, Australian_Valy.values.ravel()) ,\" , MAPE = \", MAPE(Australian_APred, Australian_Valy.values.ravel())  )"
   ]
  },
  {
   "cell_type": "code",
   "execution_count": 557,
   "id": "00114bcd-e49d-48b1-af42-d0ab5bdd82a7",
   "metadata": {},
   "outputs": [
    {
     "name": "stdout",
     "output_type": "stream",
     "text": [
      "ANN Dubai RMSE = 13.743641860466413  , MAPE =  11.70195860694328\n"
     ]
    }
   ],
   "source": [
    "Dubai_ANN=ANN_Regresion(Dubai_STrainX, Dubai_Trainy,hidden_Layer=(100,), LR=0.001, alp=0.001 , maxItr=100000)\n",
    "Dubai_APred=Dubai_ANN.predict(Dubai_Scaler.transform(Hot_encode(Dubai_ValX)))\n",
    "print(\"ANN Dubai RMSE =\",RMSE(Dubai_APred, Dubai_Valy.values.ravel()) ,\" , MAPE = \", MAPE(Dubai_APred, Dubai_Valy.values.ravel())  )"
   ]
  },
  {
   "cell_type": "code",
   "execution_count": null,
   "id": "93dfa24a-d460-497d-baaf-98c0a38c9808",
   "metadata": {},
   "outputs": [
    {
     "name": "stdout",
     "output_type": "stream",
     "text": [
      "ANN Russian  RMSE = 2.5083352860536428  , MAPE =  2.0880075143176313\n"
     ]
    }
   ],
   "source": [
    "Russian_ANN=ANN_Regresion(Russian_STrainX, Russian_Trainy,hidden_Layer=(5), LR=0.0001, alp=0.001 , maxItr=100000)\n",
    "Russian_APred=Russian_ANN.predict(Russian_Scaler.transform(Hot_encode(Russian_ValX)))\n",
    "print(\"ANN Russian  RMSE =\",RMSE(Russian_APred, Russian_Valy.values.ravel()) ,\" , MAPE = \", MAPE(Russian_APred, Russian_Valy.values.ravel())  )"
   ]
  },
  {
   "cell_type": "code",
   "execution_count": null,
   "id": "f5019aa7-9e56-4668-98c8-0dd68252edce",
   "metadata": {},
   "outputs": [
    {
     "name": "stdout",
     "output_type": "stream",
     "text": [
      "ANN Louisiana RMSE = 0.9879040163947163  , MAPE =  0.8284423237879543\n"
     ]
    }
   ],
   "source": [
    "Louisiana_ANN=ANN_Regresion(Louisiana_STrainX, Louisiana_Trainy,hidden_Layer=(10,5), LR=0.0001, alp=0.001 , maxItr=100000)\n",
    "Louisiana_APred=Louisiana_ANN.predict(Louisiana_Scaler.transform(Hot_encode(Louisiana_ValX)))\n",
    "print(\"ANN Louisiana RMSE =\",RMSE(Louisiana_APred, Louisiana_Valy.values.ravel()) ,\" , MAPE = \", MAPE(Louisiana_APred, Louisiana_Valy.values.ravel())  )"
   ]
  },
  {
   "cell_type": "markdown",
   "id": "5a62ad79-1746-4c23-aabe-2e7aaf7992d3",
   "metadata": {},
   "source": [
    "# getting the mean of the price "
   ]
  },
  {
   "cell_type": "code",
   "execution_count": null,
   "id": "9a81da8a-baa7-4cae-b317-8925a882ba30",
   "metadata": {},
   "outputs": [
    {
     "name": "stderr",
     "output_type": "stream",
     "text": [
      "C:\\Users\\96656\\AppData\\Local\\Temp/ipykernel_24948/3152617760.py:1: FutureWarning: DataFrame.mean and DataFrame.median with numeric_only=None will include datetime64 and datetime64tz columns in a future version.\n",
      "  Means=df.mean()\n"
     ]
    },
    {
     "data": {
      "text/plain": [
       "Crude Oil (petroleum),  Dated Brent                              41.946357\n",
       "Crude Oil (petroleum), West Texas Intermediate                   41.309404\n",
       "Coal, Australian thermal coal                                    52.475415\n",
       "Crude Oil (petroleum), Dubai Fateh                               39.737580\n",
       "Russian Natural Gas border price in Germany                       5.097373\n",
       "Natural Gas spot price at the Henry Hub terminal in Louisiana     3.875465\n",
       "dtype: float64"
      ]
     },
     "execution_count": 181,
     "metadata": {},
     "output_type": "execute_result"
    }
   ],
   "source": [
    "Means=df.mean()\n",
    "Means[:-3]"
   ]
  },
  {
   "cell_type": "code",
   "execution_count": null,
   "id": "9d13bacd-4e8d-4243-aae9-5421ce614953",
   "metadata": {},
   "outputs": [
    {
     "name": "stdout",
     "output_type": "stream",
     "text": [
      "Using means Brent RMSE = 50.90570636813983  , MAPE =  43.03682887407409\n",
      "Using means West Texas RMSE = 42.47658361002887  , MAPE =  36.21366219753087\n",
      "Using means Australian RMSE = 44.33104994357264  , MAPE =  37.86977755555555\n",
      "Using means Dubai RMSE = 50.12214161334588  , MAPE =  42.756622290834585\n",
      "Using means Russian RMSE = 4.846796820370826  , MAPE =  4.156056783865286\n",
      "Using means Louisiana RMSE = 1.0818721108946345  , MAPE =  0.9104683372641508\n"
     ]
    }
   ],
   "source": [
    "print(\"Using means Brent RMSE =\",RMSE(Means[0], Brent_Testy.values.ravel()) ,\" , MAPE = \", MAPE(Means[0], Brent_Testy.values.ravel())  )\n",
    "print(\"Using means West Texas RMSE =\",RMSE(Means[1], West_Taxas_Testy.values.ravel()) ,\" , MAPE = \", MAPE(Means[1], West_Taxas_Testy.values.ravel())  )\n",
    "print(\"Using means Australian RMSE =\",RMSE(Means[2], Australian_Testy.values.ravel()) ,\" , MAPE = \", MAPE(Means[2], Australian_Testy.values.ravel())  )\n",
    "print(\"Using means Dubai RMSE =\",RMSE(Means[3], Dubai_Testy.values.ravel()) ,\" , MAPE = \", MAPE(Means[3], Dubai_Testy.values.ravel())  )\n",
    "print(\"Using means Russian RMSE =\",RMSE(Means[4], Russian_Testy.values.ravel()) ,\" , MAPE = \", MAPE(Means[4], Russian_Testy.values.ravel())  )\n",
    "print(\"Using means Louisiana RMSE =\",RMSE(Means[5], Louisiana_Testy.values.ravel()) ,\" , MAPE = \", MAPE(Means[5], Louisiana_Testy.values.ravel())  )\n"
   ]
  },
  {
   "cell_type": "code",
   "execution_count": null,
   "id": "5e9a718b",
   "metadata": {},
   "outputs": [],
   "source": [
    "test_Time=pd.DataFrame()\n",
    "test_Time['test']=(Brent_ValX.Year.map(str)+\"-\"+Brent_ValX.month.map(str)+\"-1\")\n",
    "test_Time.test=pd.to_datetime(test_Time.test)"
   ]
  },
  {
   "cell_type": "code",
   "execution_count": null,
   "id": "645b2f0b",
   "metadata": {},
   "outputs": [
    {
     "data": {
      "text/plain": [
       "43"
      ]
     },
     "execution_count": 75,
     "metadata": {},
     "output_type": "execute_result"
    }
   ],
   "source": [
    "len(test_Time.test)"
   ]
  },
  {
   "cell_type": "code",
   "execution_count": null,
   "id": "2febc302",
   "metadata": {},
   "outputs": [],
   "source": []
  },
  {
   "cell_type": "code",
   "execution_count": null,
   "id": "cd6e77c4",
   "metadata": {},
   "outputs": [],
   "source": []
  },
  {
   "cell_type": "code",
   "execution_count": null,
   "id": "db1925c4",
   "metadata": {},
   "outputs": [],
   "source": []
  },
  {
   "cell_type": "code",
   "execution_count": null,
   "id": "969dab4b",
   "metadata": {},
   "outputs": [],
   "source": []
  },
  {
   "cell_type": "code",
   "execution_count": null,
   "id": "d1d87f49",
   "metadata": {},
   "outputs": [],
   "source": []
  },
  {
   "cell_type": "code",
   "execution_count": null,
   "id": "71698514",
   "metadata": {},
   "outputs": [],
   "source": [
    "plt.plot( test_Time.test, test)\n",
    "plt.plot(test_Time.test, Brent_Valy)\n",
    "plt.show()"
   ]
  },
  {
   "cell_type": "code",
   "execution_count": 76,
   "id": "fd346684",
   "metadata": {},
   "outputs": [
    {
     "data": {
      "text/plain": [
       "89"
      ]
     },
     "execution_count": 76,
     "metadata": {},
     "output_type": "execute_result"
    }
   ],
   "source": [
    "len(test)"
   ]
  },
  {
   "cell_type": "markdown",
   "id": "b4810074-dd1f-48d2-8d90-31be72df7638",
   "metadata": {},
   "source": [
    "### Using the mean \n",
    "| Data| RMSE | MAPE |\n",
    "| --- | --- | --- |\n",
    "| Oil Brent | 50.90570636813983 | 43.03682887407409 |\n",
    "| Oil WTI | 42.47658361002887 | 36.21366219753087 |\n",
    "| Oil Dubai|44.33104994357264 | 37.86977755555555 |\n",
    "| Coal AU | 50.12214161334588 | 42.756622290834585 |\n",
    "| Gas US | 4.846796820370826 | 4.156056783865286 |\n",
    "| Gas Russia | 1.0818721108946345 |0.9104683372641508 |\n",
    "\n"
   ]
  },
  {
   "cell_type": "markdown",
   "id": "9ee629c1-da1d-460f-8520-211618041fe8",
   "metadata": {
    "jp-MarkdownHeadingCollapsed": true,
    "tags": []
   },
   "source": [
    "### Random forest\n",
    "| Data       | RMSE | MAPE |\n",
    "| ---            | --- | --- |\n",
    "| Oil Brent | 32.506176296822794 | 28.455086442149053 |\n",
    "| Oil WTI | 25.37141602811057 | 22.442651462732343 |\n",
    "| Oil Dubai| 31.138605930156885 | 27.557497090501037 |\n",
    "| Coal AU | 40.385582949305935 | 33.632782425555554 |\n",
    "| Gas US |  0.8424008407497212 | 0.6594639359375012 |\n",
    "| Gas Russia |3.139968512007993 | 2.914170933756378 |\n"
   ]
  },
  {
   "cell_type": "markdown",
   "id": "417e5770-8672-47f5-be81-8785c3aa434e",
   "metadata": {},
   "source": [
    "### ANN \n",
    "| Data       |      RMSE          | MAPE               |\n",
    "| ---        | ---------------    | --------------- ---  |\n",
    "| Oil Brent  | 34.023545778994    | 28.957550668208057 |\n",
    "| Oil WTI    | 31.797422286045716 | 24.767892876403252 |\n",
    "| Oil Dubai  | 38.50801845935743  |  31.068686372418117 |\n",
    "| Coal AU    | 29.727520254487565 | 24.932856262190096 |\n",
    "| Gas US     | 3.3770808624808084 | 3.2449974981951875 |\n",
    "| Gas Russia | 3.4627708076347186 | 3.229520217504922 |\n"
   ]
  },
  {
   "cell_type": "markdown",
   "id": "7b89bbd3-f1f3-4863-a188-e2e65ac50a05",
   "metadata": {},
   "source": [
    "# Conclution \n",
    "#### based on the result that has been shown above that Random forest has outprormed Articial nueral netwrok in most cases onther htan AU  the case of russia the mean had a better result than both of ANN and Rnadom forest however both ANN and Rondom forest had a good result for this problem but random forest  "
   ]
  }
 ],
 "metadata": {
  "interpreter": {
   "hash": "9650cb4e16cdd4a8e8e2d128bf38d875813998db22a3c986335f89e0cb4d7bb2"
  },
  "kernelspec": {
   "display_name": "Python 3.8.5 64-bit",
   "language": "python",
   "name": "python3"
  },
  "language_info": {
   "codemirror_mode": {
    "name": "ipython",
    "version": 3
   },
   "file_extension": ".py",
   "mimetype": "text/x-python",
   "name": "python",
   "nbconvert_exporter": "python",
   "pygments_lexer": "ipython3",
   "version": "3.8.5"
  }
 },
 "nbformat": 4,
 "nbformat_minor": 5
}
